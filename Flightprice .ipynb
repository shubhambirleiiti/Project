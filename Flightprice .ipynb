{
 "cells": [
  {
   "cell_type": "code",
   "execution_count": 92,
   "metadata": {
    "id": "_GpteuvOwTCE"
   },
   "outputs": [
    {
     "name": "stdout",
     "output_type": "stream",
     "text": [
      "Collecting tensorflow\n",
      "  Downloading tensorflow-2.11.0-cp310-cp310-manylinux_2_17_x86_64.manylinux2014_x86_64.whl (588.3 MB)\n",
      "\u001b[2K     \u001b[38;2;114;156;31m━━━━━━━━━━━━━━━━━━━━━━━━━━━━━━━━━━━━━\u001b[0m \u001b[32m588.3/588.3 MB\u001b[0m \u001b[31m956.0 kB/s\u001b[0m eta \u001b[36m0:00:00\u001b[0mm eta \u001b[36m0:00:01\u001b[0m[36m0:00:04\u001b[0m\n",
      "\u001b[?25hCollecting astunparse>=1.6.0\n",
      "  Downloading astunparse-1.6.3-py2.py3-none-any.whl (12 kB)\n",
      "Collecting opt-einsum>=2.3.2\n",
      "  Downloading opt_einsum-3.3.0-py3-none-any.whl (65 kB)\n",
      "\u001b[2K     \u001b[38;2;114;156;31m━━━━━━━━━━━━━━━━━━━━━━━━━━━━━━━━━━━━━━━\u001b[0m \u001b[32m65.5/65.5 kB\u001b[0m \u001b[31m287.4 kB/s\u001b[0m eta \u001b[36m0:00:00\u001b[0m31m38.7 MB/s\u001b[0m eta \u001b[36m0:00:01\u001b[0m\n",
      "\u001b[?25hCollecting tensorflow-estimator<2.12,>=2.11.0\n",
      "  Downloading tensorflow_estimator-2.11.0-py2.py3-none-any.whl (439 kB)\n",
      "\u001b[2K     \u001b[38;2;114;156;31m━━━━━━━━━━━━━━━━━━━━━━━━━━━━━━━━━━━━━━━\u001b[0m \u001b[32m439.2/439.2 kB\u001b[0m \u001b[31m2.1 MB/s\u001b[0m eta \u001b[36m0:00:00\u001b[0m[36m0:00:01\u001b[0mm eta \u001b[36m0:00:01\u001b[0m\n",
      "\u001b[?25hCollecting wrapt>=1.11.0\n",
      "  Downloading wrapt-1.14.1-cp310-cp310-manylinux_2_5_x86_64.manylinux1_x86_64.manylinux_2_17_x86_64.manylinux2014_x86_64.whl (77 kB)\n",
      "\u001b[2K     \u001b[38;2;114;156;31m━━━━━━━━━━━━━━━━━━━━━━━━━━━━━━━━━━━━━━━\u001b[0m \u001b[32m77.9/77.9 kB\u001b[0m \u001b[31m876.4 kB/s\u001b[0m eta \u001b[36m0:00:00\u001b[0m31m2.0 MB/s\u001b[0m eta \u001b[36m0:00:01\u001b[0m\n",
      "\u001b[?25hRequirement already satisfied: numpy>=1.20 in ./venv/lib/python3.10/site-packages (from tensorflow) (1.24.0)\n",
      "Collecting typing-extensions>=3.6.6\n",
      "  Downloading typing_extensions-4.4.0-py3-none-any.whl (26 kB)\n",
      "Collecting h5py>=2.9.0\n",
      "  Downloading h5py-3.7.0-cp310-cp310-manylinux_2_12_x86_64.manylinux2010_x86_64.whl (4.5 MB)\n",
      "\u001b[2K     \u001b[38;2;114;156;31m━━━━━━━━━━━━━━━━━━━━━━━━━━━━━━━━━━━━━━━━\u001b[0m \u001b[32m4.5/4.5 MB\u001b[0m \u001b[31m4.5 MB/s\u001b[0m eta \u001b[36m0:00:00\u001b[0mm eta \u001b[36m0:00:01\u001b[0m[36m0:00:01\u001b[0m\n",
      "\u001b[?25hCollecting tensorboard<2.12,>=2.11\n",
      "  Downloading tensorboard-2.11.0-py3-none-any.whl (6.0 MB)\n",
      "\u001b[2K     \u001b[38;2;114;156;31m━━━━━━━━━━━━━━━━━━━━━━━━━━━━━━━━━━━━━━━━\u001b[0m \u001b[32m6.0/6.0 MB\u001b[0m \u001b[31m4.6 MB/s\u001b[0m eta \u001b[36m0:00:00\u001b[0mm eta \u001b[36m0:00:01\u001b[0m[36m0:00:01\u001b[0m\n",
      "\u001b[?25hRequirement already satisfied: setuptools in ./venv/lib/python3.10/site-packages (from tensorflow) (65.6.3)\n",
      "Collecting libclang>=13.0.0\n",
      "  Downloading libclang-14.0.6-py2.py3-none-manylinux2010_x86_64.whl (14.1 MB)\n",
      "\u001b[2K     \u001b[38;2;114;156;31m━━━━━━━━━━━━━━━━━━━━━━━━━━━━━━━━━━━━━━━━\u001b[0m \u001b[32m14.1/14.1 MB\u001b[0m \u001b[31m4.5 MB/s\u001b[0m eta \u001b[36m0:00:00\u001b[0mm eta \u001b[36m0:00:01\u001b[0m[36m0:00:01\u001b[0m\n",
      "\u001b[?25hCollecting termcolor>=1.1.0\n",
      "  Downloading termcolor-2.1.1-py3-none-any.whl (6.2 kB)\n",
      "Collecting google-pasta>=0.1.1\n",
      "  Downloading google_pasta-0.2.0-py3-none-any.whl (57 kB)\n",
      "\u001b[2K     \u001b[38;2;114;156;31m━━━━━━━━━━━━━━━━━━━━━━━━━━━━━━━━━━━━━━━━\u001b[0m \u001b[32m57.5/57.5 kB\u001b[0m \u001b[31m1.1 MB/s\u001b[0m eta \u001b[36m0:00:00\u001b[0m31m116.0 MB/s\u001b[0m eta \u001b[36m0:00:01\u001b[0m\n",
      "\u001b[?25hCollecting protobuf<3.20,>=3.9.2\n",
      "  Downloading protobuf-3.19.6-cp310-cp310-manylinux_2_17_x86_64.manylinux2014_x86_64.whl (1.1 MB)\n",
      "\u001b[2K     \u001b[38;2;114;156;31m━━━━━━━━━━━━━━━━━━━━━━━━━━━━━━━━━━━━━━━━\u001b[0m \u001b[32m1.1/1.1 MB\u001b[0m \u001b[31m3.9 MB/s\u001b[0m eta \u001b[36m0:00:00\u001b[0mm eta \u001b[36m0:00:01\u001b[0m0:01\u001b[0mm0:01\u001b[0m\n",
      "\u001b[?25hCollecting flatbuffers>=2.0\n",
      "  Downloading flatbuffers-22.12.6-py2.py3-none-any.whl (26 kB)\n",
      "Collecting absl-py>=1.0.0\n",
      "  Downloading absl_py-1.3.0-py3-none-any.whl (124 kB)\n",
      "\u001b[2K     \u001b[38;2;114;156;31m━━━━━━━━━━━━━━━━━━━━━━━━━━━━━━━━━━━━━━━\u001b[0m \u001b[32m124.6/124.6 kB\u001b[0m \u001b[31m2.2 MB/s\u001b[0m eta \u001b[36m0:00:00\u001b[0m[36m0:00:01\u001b[0m\n",
      "\u001b[?25hCollecting grpcio<2.0,>=1.24.3\n",
      "  Downloading grpcio-1.51.1-cp310-cp310-manylinux_2_17_x86_64.manylinux2014_x86_64.whl (4.8 MB)\n",
      "\u001b[2K     \u001b[38;2;114;156;31m━━━━━━━━━━━━━━━━━━━━━━━━━━━━━━━━━━━━━━━━\u001b[0m \u001b[32m4.8/4.8 MB\u001b[0m \u001b[31m3.6 MB/s\u001b[0m eta \u001b[36m0:00:00\u001b[0mm eta \u001b[36m0:00:01\u001b[0m[36m0:00:01\u001b[0m0m\n",
      "\u001b[?25hRequirement already satisfied: six>=1.12.0 in ./venv/lib/python3.10/site-packages (from tensorflow) (1.16.0)\n",
      "Collecting gast<=0.4.0,>=0.2.1\n",
      "  Downloading gast-0.4.0-py3-none-any.whl (9.8 kB)\n",
      "Collecting keras<2.12,>=2.11.0\n",
      "  Downloading keras-2.11.0-py2.py3-none-any.whl (1.7 MB)\n",
      "\u001b[2K     \u001b[38;2;114;156;31m━━━━━━━━━━━━━━━━━━━━━━━━━━━━━━━━━━━━━━━━\u001b[0m \u001b[32m1.7/1.7 MB\u001b[0m \u001b[31m3.8 MB/s\u001b[0m eta \u001b[36m0:00:00\u001b[0mm eta \u001b[36m0:00:01\u001b[0m[36m0:00:01\u001b[0m\n",
      "\u001b[?25hCollecting tensorflow-io-gcs-filesystem>=0.23.1\n",
      "  Downloading tensorflow_io_gcs_filesystem-0.29.0-cp310-cp310-manylinux_2_12_x86_64.manylinux2010_x86_64.whl (2.4 MB)\n",
      "\u001b[2K     \u001b[38;2;114;156;31m━━━━━━━━━━━━━━━━━━━━━━━━━━━━━━━━━━━━━━━━\u001b[0m \u001b[32m2.4/2.4 MB\u001b[0m \u001b[31m4.0 MB/s\u001b[0m eta \u001b[36m0:00:00\u001b[0mm eta \u001b[36m0:00:01\u001b[0m[36m0:00:01\u001b[0mm\n",
      "\u001b[?25hRequirement already satisfied: packaging in ./venv/lib/python3.10/site-packages (from tensorflow) (22.0)\n",
      "Requirement already satisfied: wheel<1.0,>=0.23.0 in ./venv/lib/python3.10/site-packages (from astunparse>=1.6.0->tensorflow) (0.38.4)\n",
      "Collecting markdown>=2.6.8\n",
      "  Downloading Markdown-3.4.1-py3-none-any.whl (93 kB)\n",
      "\u001b[2K     \u001b[38;2;114;156;31m━━━━━━━━━━━━━━━━━━━━━━━━━━━━━━━━━━━━━━━━\u001b[0m \u001b[32m93.3/93.3 kB\u001b[0m \u001b[31m1.6 MB/s\u001b[0m eta \u001b[36m0:00:00\u001b[0mm eta \u001b[36m0:00:01\u001b[0m\n",
      "\u001b[?25hCollecting requests<3,>=2.21.0\n",
      "  Downloading requests-2.28.1-py3-none-any.whl (62 kB)\n",
      "\u001b[2K     \u001b[38;2;114;156;31m━━━━━━━━━━━━━━━━━━━━━━━━━━━━━━━━━━━━━━━━\u001b[0m \u001b[32m62.8/62.8 kB\u001b[0m \u001b[31m1.1 MB/s\u001b[0m eta \u001b[36m0:00:00\u001b[0m[36m0:00:01\u001b[0m\n",
      "\u001b[?25hCollecting google-auth<3,>=1.6.3\n",
      "  Downloading google_auth-2.15.0-py2.py3-none-any.whl (177 kB)\n",
      "\u001b[2K     \u001b[38;2;114;156;31m━━━━━━━━━━━━━━━━━━━━━━━━━━━━━━━━━━━━━\u001b[0m \u001b[32m177.0/177.0 kB\u001b[0m \u001b[31m805.1 kB/s\u001b[0m eta \u001b[36m0:00:00\u001b[0m[36m0:00:01\u001b[0m[36m0:00:01\u001b[0m\n",
      "\u001b[?25hCollecting tensorboard-plugin-wit>=1.6.0\n",
      "  Downloading tensorboard_plugin_wit-1.8.1-py3-none-any.whl (781 kB)\n",
      "\u001b[2K     \u001b[38;2;114;156;31m━━━━━━━━━━━━━━━━━━━━━━━━━━━━━━━━━━━━━━━\u001b[0m \u001b[32m781.3/781.3 kB\u001b[0m \u001b[31m2.7 MB/s\u001b[0m eta \u001b[36m0:00:00\u001b[0mm eta \u001b[36m0:00:01\u001b[0m[36m0:00:01\u001b[0m\n",
      "\u001b[?25hCollecting werkzeug>=1.0.1\n",
      "  Downloading Werkzeug-2.2.2-py3-none-any.whl (232 kB)\n",
      "\u001b[2K     \u001b[38;2;114;156;31m━━━━━━━━━━━━━━━━━━━━━━━━━━━━━━━━━━━━━━━\u001b[0m \u001b[32m232.7/232.7 kB\u001b[0m \u001b[31m1.5 MB/s\u001b[0m eta \u001b[36m0:00:00\u001b[0m[31m8.2 MB/s\u001b[0m eta \u001b[36m0:00:01\u001b[0m\n",
      "\u001b[?25hCollecting google-auth-oauthlib<0.5,>=0.4.1\n",
      "  Downloading google_auth_oauthlib-0.4.6-py2.py3-none-any.whl (18 kB)\n",
      "Collecting tensorboard-data-server<0.7.0,>=0.6.0\n",
      "  Downloading tensorboard_data_server-0.6.1-py3-none-manylinux2010_x86_64.whl (4.9 MB)\n",
      "\u001b[2K     \u001b[38;2;114;156;31m━━━━━━━━━━━━━━━━━━━━━━━━━━━━━━━━━━━━━━━━\u001b[0m \u001b[32m4.9/4.9 MB\u001b[0m \u001b[31m4.6 MB/s\u001b[0m eta \u001b[36m0:00:00\u001b[0mm eta \u001b[36m0:00:01\u001b[0m[36m0:00:01\u001b[0m\n",
      "\u001b[?25hCollecting pyasn1-modules>=0.2.1\n",
      "  Downloading pyasn1_modules-0.2.8-py2.py3-none-any.whl (155 kB)\n",
      "\u001b[2K     \u001b[38;2;114;156;31m━━━━━━━━━━━━━━━━━━━━━━━━━━━━━━━━━━━━━━━\u001b[0m \u001b[32m155.3/155.3 kB\u001b[0m \u001b[31m1.9 MB/s\u001b[0m eta \u001b[36m0:00:00\u001b[0mm eta \u001b[36m0:00:01\u001b[0m0:01\u001b[0m\n",
      "\u001b[?25hCollecting rsa<5,>=3.1.4\n",
      "  Downloading rsa-4.9-py3-none-any.whl (34 kB)\n",
      "Collecting cachetools<6.0,>=2.0.0\n",
      "  Downloading cachetools-5.2.0-py3-none-any.whl (9.3 kB)\n",
      "Collecting requests-oauthlib>=0.7.0\n",
      "  Downloading requests_oauthlib-1.3.1-py2.py3-none-any.whl (23 kB)\n",
      "Collecting certifi>=2017.4.17\n",
      "  Downloading certifi-2022.12.7-py3-none-any.whl (155 kB)\n",
      "\u001b[2K     \u001b[38;2;114;156;31m━━━━━━━━━━━━━━━━━━━━━━━━━━━━━━━━━━━━━━━\u001b[0m \u001b[32m155.3/155.3 kB\u001b[0m \u001b[31m2.0 MB/s\u001b[0m eta \u001b[36m0:00:00\u001b[0mm eta \u001b[36m0:00:01\u001b[0m0:01\u001b[0m\n",
      "\u001b[?25hCollecting urllib3<1.27,>=1.21.1\n",
      "  Downloading urllib3-1.26.13-py2.py3-none-any.whl (140 kB)\n",
      "\u001b[2K     \u001b[38;2;114;156;31m━━━━━━━━━━━━━━━━━━━━━━━━━━━━━━━━━━━━━━━\u001b[0m \u001b[32m140.6/140.6 kB\u001b[0m \u001b[31m2.3 MB/s\u001b[0m eta \u001b[36m0:00:00\u001b[0m31m14.7 MB/s\u001b[0m eta \u001b[36m0:00:01\u001b[0m\n",
      "\u001b[?25hCollecting charset-normalizer<3,>=2\n",
      "  Downloading charset_normalizer-2.1.1-py3-none-any.whl (39 kB)\n",
      "Requirement already satisfied: idna<4,>=2.5 in ./venv/lib/python3.10/site-packages (from requests<3,>=2.21.0->tensorboard<2.12,>=2.11->tensorflow) (3.4)\n",
      "Requirement already satisfied: MarkupSafe>=2.1.1 in ./venv/lib/python3.10/site-packages (from werkzeug>=1.0.1->tensorboard<2.12,>=2.11->tensorflow) (2.1.1)\n",
      "Collecting pyasn1<0.5.0,>=0.4.6\n",
      "  Downloading pyasn1-0.4.8-py2.py3-none-any.whl (77 kB)\n",
      "\u001b[2K     \u001b[38;2;114;156;31m━━━━━━━━━━━━━━━━━━━━━━━━━━━━━━━━━━━━━━━━\u001b[0m \u001b[32m77.1/77.1 kB\u001b[0m \u001b[31m1.5 MB/s\u001b[0m eta \u001b[36m0:00:00\u001b[0m MB/s\u001b[0m eta \u001b[36m0:00:01\u001b[0m\n",
      "\u001b[?25hCollecting oauthlib>=3.0.0\n",
      "  Downloading oauthlib-3.2.2-py3-none-any.whl (151 kB)\n",
      "\u001b[2K     \u001b[38;2;114;156;31m━━━━━━━━━━━━━━━━━━━━━━━━━━━━━━━━━━━━━━━\u001b[0m \u001b[32m151.7/151.7 kB\u001b[0m \u001b[31m2.3 MB/s\u001b[0m eta \u001b[36m0:00:00\u001b[0m MB/s\u001b[0m eta \u001b[36m0:00:01\u001b[0m\n",
      "\u001b[?25hInstalling collected packages: tensorboard-plugin-wit, pyasn1, libclang, flatbuffers, wrapt, werkzeug, urllib3, typing-extensions, termcolor, tensorflow-io-gcs-filesystem, tensorflow-estimator, tensorboard-data-server, rsa, pyasn1-modules, protobuf, opt-einsum, oauthlib, markdown, keras, h5py, grpcio, google-pasta, gast, charset-normalizer, certifi, cachetools, astunparse, absl-py, requests, google-auth, requests-oauthlib, google-auth-oauthlib, tensorboard, tensorflow\n",
      "Successfully installed absl-py-1.3.0 astunparse-1.6.3 cachetools-5.2.0 certifi-2022.12.7 charset-normalizer-2.1.1 flatbuffers-22.12.6 gast-0.4.0 google-auth-2.15.0 google-auth-oauthlib-0.4.6 google-pasta-0.2.0 grpcio-1.51.1 h5py-3.7.0 keras-2.11.0 libclang-14.0.6 markdown-3.4.1 oauthlib-3.2.2 opt-einsum-3.3.0 protobuf-3.19.6 pyasn1-0.4.8 pyasn1-modules-0.2.8 requests-2.28.1 requests-oauthlib-1.3.1 rsa-4.9 tensorboard-2.11.0 tensorboard-data-server-0.6.1 tensorboard-plugin-wit-1.8.1 tensorflow-2.11.0 tensorflow-estimator-2.11.0 tensorflow-io-gcs-filesystem-0.29.0 termcolor-2.1.1 typing-extensions-4.4.0 urllib3-1.26.13 werkzeug-2.2.2 wrapt-1.14.1\n"
     ]
    }
   ],
   "source": [
    "##flight price prediction\n",
    "#!pip install seaborn\n",
    "#!pip install %matplotlib\n",
    "!pip install tensorflow\n",
    "import matplotlib\n",
    "import pandas as pd\n",
    "import numpy as np\n",
    "import seaborn as sns\n",
    "import matplotlib.pyplot as plt\n"
   ]
  },
  {
   "cell_type": "code",
   "execution_count": 47,
   "metadata": {
    "colab": {
     "base_uri": "https://localhost:8080/"
    },
    "id": "21Go0vo0waCe",
    "outputId": "5db2c1c6-91e8-4881-a779-dc0bbd44eee6"
   },
   "outputs": [],
   "source": [
    "train_df=pd.read_csv(\"/home/shubh/Documents/Data_Train.csv\")\n"
   ]
  },
  {
   "cell_type": "code",
   "execution_count": 48,
   "metadata": {},
   "outputs": [
    {
     "name": "stdout",
     "output_type": "stream",
     "text": [
      "       Airline Date_of_Journey    Source Destination                  Route  \\\n",
      "0       IndiGo      24-03-2019  Banglore   New Delhi              BLR → DEL   \n",
      "1    Air India      01-05-2019   Kolkata    Banglore  CCU → IXR → BBI → BLR   \n",
      "2  Jet Airways      09-06-2019     Delhi      Cochin  DEL → LKO → BOM → COK   \n",
      "3       IndiGo      12-05-2019   Kolkata    Banglore        CCU → NAG → BLR   \n",
      "4       IndiGo      01-03-2019  Banglore   New Delhi        BLR → NAG → DEL   \n",
      "\n",
      "  Dep_Time      Arrival_Time Duration Total_Stops Additional_Info  Price  \n",
      "0    22:20  22-03-2022 01:10   2h 50m    non-stop         No info   3897  \n",
      "1    05:50             13:15   7h 25m     2 stops         No info   7662  \n",
      "2    09:25  10-06-2022 04:25      19h     2 stops         No info  13882  \n",
      "3    18:05             23:30   5h 25m      1 stop         No info   6218  \n",
      "4    16:50             21:35   4h 45m      1 stop         No info  13302  \n"
     ]
    }
   ],
   "source": [
    "print(train_df.head())\n"
   ]
  },
  {
   "cell_type": "code",
   "execution_count": 49,
   "metadata": {},
   "outputs": [
    {
     "name": "stdout",
     "output_type": "stream",
     "text": [
      "<class 'pandas.core.frame.DataFrame'>\n",
      "RangeIndex: 10683 entries, 0 to 10682\n",
      "Data columns (total 11 columns):\n",
      " #   Column           Non-Null Count  Dtype \n",
      "---  ------           --------------  ----- \n",
      " 0   Airline          10683 non-null  object\n",
      " 1   Date_of_Journey  10683 non-null  object\n",
      " 2   Source           10683 non-null  object\n",
      " 3   Destination      10683 non-null  object\n",
      " 4   Route            10682 non-null  object\n",
      " 5   Dep_Time         10683 non-null  object\n",
      " 6   Arrival_Time     10683 non-null  object\n",
      " 7   Duration         10683 non-null  object\n",
      " 8   Total_Stops      10682 non-null  object\n",
      " 9   Additional_Info  10683 non-null  object\n",
      " 10  Price            10683 non-null  int64 \n",
      "dtypes: int64(1), object(10)\n",
      "memory usage: 918.2+ KB\n",
      "None\n"
     ]
    }
   ],
   "source": [
    "print(train_df .info())\n"
   ]
  },
  {
   "cell_type": "code",
   "execution_count": 50,
   "metadata": {},
   "outputs": [
    {
     "name": "stdout",
     "output_type": "stream",
     "text": [
      "(10683, 11)\n"
     ]
    }
   ],
   "source": [
    "print(train_df.shape)"
   ]
  },
  {
   "cell_type": "code",
   "execution_count": 51,
   "metadata": {
    "colab": {
     "base_uri": "https://localhost:8080/"
    },
    "id": "R16MsMH1wmks",
    "outputId": "7f735b51-efda-4898-d670-f3a92a440d02"
   },
   "outputs": [],
   "source": [
    "test_df=pd.read_csv (\"/home/shubh/Documents/Test_set.csv\")\n"
   ]
  },
  {
   "cell_type": "code",
   "execution_count": 52,
   "metadata": {},
   "outputs": [
    {
     "name": "stdout",
     "output_type": "stream",
     "text": [
      "             Airline Date_of_Journey    Source Destination            Route  \\\n",
      "0        Jet Airways      06-06-2019     Delhi      Cochin  DEL → BOM → COK   \n",
      "1             IndiGo      12-05-2019   Kolkata    Banglore  CCU → MAA → BLR   \n",
      "2        Jet Airways      21-05-2019     Delhi      Cochin  DEL → BOM → COK   \n",
      "3  Multiple carriers      21-05-2019     Delhi      Cochin  DEL → BOM → COK   \n",
      "4           Air Asia      24-06-2019  Banglore       Delhi        BLR → DEL   \n",
      "\n",
      "  Dep_Time      Arrival_Time Duration Total_Stops              Additional_Info  \n",
      "0    17:30  07-06-2022 04:25  10h 55m      1 stop                      No info  \n",
      "1    06:20             10:20       4h      1 stop                      No info  \n",
      "2    19:15  22-05-2022 19:00  23h 45m      1 stop  In-flight meal not included  \n",
      "3    08:00             21:00      13h      1 stop                      No info  \n",
      "4    23:55  25-06-2022 02:45   2h 50m    non-stop                      No info  \n"
     ]
    }
   ],
   "source": [
    "print(test_df.head())"
   ]
  },
  {
   "cell_type": "code",
   "execution_count": 53,
   "metadata": {},
   "outputs": [
    {
     "name": "stdout",
     "output_type": "stream",
     "text": [
      "<class 'pandas.core.frame.DataFrame'>\n",
      "RangeIndex: 2671 entries, 0 to 2670\n",
      "Data columns (total 10 columns):\n",
      " #   Column           Non-Null Count  Dtype \n",
      "---  ------           --------------  ----- \n",
      " 0   Airline          2671 non-null   object\n",
      " 1   Date_of_Journey  2671 non-null   object\n",
      " 2   Source           2671 non-null   object\n",
      " 3   Destination      2671 non-null   object\n",
      " 4   Route            2671 non-null   object\n",
      " 5   Dep_Time         2671 non-null   object\n",
      " 6   Arrival_Time     2671 non-null   object\n",
      " 7   Duration         2671 non-null   object\n",
      " 8   Total_Stops      2671 non-null   object\n",
      " 9   Additional_Info  2671 non-null   object\n",
      "dtypes: object(10)\n",
      "memory usage: 208.8+ KB\n",
      "None\n"
     ]
    }
   ],
   "source": [
    "print(test_df .info())"
   ]
  },
  {
   "cell_type": "code",
   "execution_count": 54,
   "metadata": {},
   "outputs": [
    {
     "name": "stdout",
     "output_type": "stream",
     "text": [
      "(2671, 10)\n"
     ]
    }
   ],
   "source": [
    "print(test_df.shape)"
   ]
  },
  {
   "cell_type": "code",
   "execution_count": 55,
   "metadata": {
    "colab": {
     "base_uri": "https://localhost:8080/"
    },
    "id": "LPTPwdodwmiN",
    "outputId": "a7b7490e-90f5-43e6-f91c-d3788b985d63"
   },
   "outputs": [
    {
     "name": "stderr",
     "output_type": "stream",
     "text": [
      "/tmp/ipykernel_50188/2313179638.py:1: FutureWarning: The frame.append method is deprecated and will be removed from pandas in a future version. Use pandas.concat instead.\n",
      "  final_df=train_df.append(test_df)\n"
     ]
    }
   ],
   "source": [
    "final_df=train_df.append(test_df)\n"
   ]
  },
  {
   "cell_type": "code",
   "execution_count": 56,
   "metadata": {},
   "outputs": [
    {
     "name": "stdout",
     "output_type": "stream",
     "text": [
      "       Airline Date_of_Journey    Source Destination                  Route  \\\n",
      "0       IndiGo      24-03-2019  Banglore   New Delhi              BLR → DEL   \n",
      "1    Air India      01-05-2019   Kolkata    Banglore  CCU → IXR → BBI → BLR   \n",
      "2  Jet Airways      09-06-2019     Delhi      Cochin  DEL → LKO → BOM → COK   \n",
      "3       IndiGo      12-05-2019   Kolkata    Banglore        CCU → NAG → BLR   \n",
      "4       IndiGo      01-03-2019  Banglore   New Delhi        BLR → NAG → DEL   \n",
      "\n",
      "  Dep_Time      Arrival_Time Duration Total_Stops Additional_Info    Price  \n",
      "0    22:20  22-03-2022 01:10   2h 50m    non-stop         No info   3897.0  \n",
      "1    05:50             13:15   7h 25m     2 stops         No info   7662.0  \n",
      "2    09:25  10-06-2022 04:25      19h     2 stops         No info  13882.0  \n",
      "3    18:05             23:30   5h 25m      1 stop         No info   6218.0  \n",
      "4    16:50             21:35   4h 45m      1 stop         No info  13302.0  \n"
     ]
    }
   ],
   "source": [
    "print(final_df .head())\n"
   ]
  },
  {
   "cell_type": "code",
   "execution_count": 57,
   "metadata": {},
   "outputs": [
    {
     "name": "stdout",
     "output_type": "stream",
     "text": [
      "<class 'pandas.core.frame.DataFrame'>\n",
      "Int64Index: 13354 entries, 0 to 2670\n",
      "Data columns (total 11 columns):\n",
      " #   Column           Non-Null Count  Dtype  \n",
      "---  ------           --------------  -----  \n",
      " 0   Airline          13354 non-null  object \n",
      " 1   Date_of_Journey  13354 non-null  object \n",
      " 2   Source           13354 non-null  object \n",
      " 3   Destination      13354 non-null  object \n",
      " 4   Route            13353 non-null  object \n",
      " 5   Dep_Time         13354 non-null  object \n",
      " 6   Arrival_Time     13354 non-null  object \n",
      " 7   Duration         13354 non-null  object \n",
      " 8   Total_Stops      13353 non-null  object \n",
      " 9   Additional_Info  13354 non-null  object \n",
      " 10  Price            10683 non-null  float64\n",
      "dtypes: float64(1), object(10)\n",
      "memory usage: 1.2+ MB\n",
      "None\n"
     ]
    }
   ],
   "source": [
    "print(final_df .info())\n"
   ]
  },
  {
   "cell_type": "code",
   "execution_count": 58,
   "metadata": {},
   "outputs": [
    {
     "name": "stdout",
     "output_type": "stream",
     "text": [
      "(13354, 11)\n"
     ]
    }
   ],
   "source": [
    "print(final_df.shape)\n"
   ]
  },
  {
   "cell_type": "code",
   "execution_count": 59,
   "metadata": {},
   "outputs": [
    {
     "name": "stdout",
     "output_type": "stream",
     "text": [
      "              Price\n",
      "count  10683.000000\n",
      "mean    9087.064121\n",
      "std     4611.359167\n",
      "min     1759.000000\n",
      "25%     5277.000000\n",
      "50%     8372.000000\n",
      "75%    12373.000000\n",
      "max    79512.000000\n"
     ]
    }
   ],
   "source": [
    "print(final_df.describe() )"
   ]
  },
  {
   "cell_type": "code",
   "execution_count": 60,
   "metadata": {
    "colab": {
     "base_uri": "https://localhost:8080/"
    },
    "id": "9XCCeejewmff",
    "outputId": "815a49a8-5ad6-4b7a-b4a9-46a2b40dad42"
   },
   "outputs": [
    {
     "name": "stdout",
     "output_type": "stream",
     "text": [
      "<class 'pandas.core.frame.DataFrame'>\n",
      "Int64Index: 13354 entries, 0 to 2670\n",
      "Data columns (total 11 columns):\n",
      " #   Column           Non-Null Count  Dtype         \n",
      "---  ------           --------------  -----         \n",
      " 0   Airline          13354 non-null  object        \n",
      " 1   Date_of_Journey  13354 non-null  datetime64[ns]\n",
      " 2   Source           13354 non-null  object        \n",
      " 3   Destination      13354 non-null  object        \n",
      " 4   Route            13353 non-null  object        \n",
      " 5   Dep_Time         13354 non-null  object        \n",
      " 6   Arrival_Time     13354 non-null  object        \n",
      " 7   Duration         13354 non-null  object        \n",
      " 8   Total_Stops      13353 non-null  object        \n",
      " 9   Additional_Info  13354 non-null  object        \n",
      " 10  Price            10683 non-null  float64       \n",
      "dtypes: datetime64[ns](1), float64(1), object(9)\n",
      "memory usage: 1.2+ MB\n",
      "None\n"
     ]
    },
    {
     "name": "stderr",
     "output_type": "stream",
     "text": [
      "/tmp/ipykernel_50188/1141468274.py:2: UserWarning: Parsing dates in DD/MM/YYYY format when dayfirst=False (the default) was specified. This may lead to inconsistently parsed dates! Specify a format to ensure consistent parsing.\n",
      "  final_df[\"Date_of_Journey\"]=pd.to_datetime(final_df [\"Date_of_Journey\"])\n"
     ]
    }
   ],
   "source": [
    "#feature engineering  start\n",
    "final_df[\"Date_of_Journey\"]=pd.to_datetime(final_df [\"Date_of_Journey\"])\n",
    "print(final_df .info())"
   ]
  },
  {
   "cell_type": "code",
   "execution_count": 61,
   "metadata": {
    "colab": {
     "base_uri": "https://localhost:8080/"
    },
    "id": "xGfqPaVYwxqb",
    "outputId": "c57d3068-a4e4-4b02-b37a-33a59026b66f"
   },
   "outputs": [],
   "source": [
    "final_df[\"Day\"]=final_df [\"Date_of_Journey\"].dt.day\n"
   ]
  },
  {
   "cell_type": "code",
   "execution_count": 62,
   "metadata": {},
   "outputs": [],
   "source": [
    "final_df[\"Month\"]=final_df [\"Date_of_Journey\"].dt.month\n"
   ]
  },
  {
   "cell_type": "code",
   "execution_count": 63,
   "metadata": {},
   "outputs": [],
   "source": [
    "final_df[\"Year\"]=final_df [\"Date_of_Journey\"].dt.year"
   ]
  },
  {
   "cell_type": "code",
   "execution_count": 64,
   "metadata": {},
   "outputs": [
    {
     "name": "stdout",
     "output_type": "stream",
     "text": [
      "       Airline Date_of_Journey    Source Destination                  Route Dep_Time      Arrival_Time Duration Total_Stops Additional_Info    Price  Day  Month  Year\n",
      "0       IndiGo      2019-03-24  Banglore   New Delhi              BLR → DEL    22:20  22-03-2022 01:10   2h 50m    non-stop         No info   3897.0   24      3  2019\n",
      "1    Air India      2019-01-05   Kolkata    Banglore  CCU → IXR → BBI → BLR    05:50             13:15   7h 25m     2 stops         No info   7662.0    5      1  2019\n",
      "2  Jet Airways      2019-09-06     Delhi      Cochin  DEL → LKO → BOM → COK    09:25  10-06-2022 04:25      19h     2 stops         No info  13882.0    6      9  2019\n",
      "3       IndiGo      2019-12-05   Kolkata    Banglore        CCU → NAG → BLR    18:05             23:30   5h 25m      1 stop         No info   6218.0    5     12  2019\n",
      "4       IndiGo      2019-01-03  Banglore   New Delhi        BLR → NAG → DEL    16:50             21:35   4h 45m      1 stop         No info  13302.0    3      1  2019\n"
     ]
    }
   ],
   "source": [
    "print(final_df.head().to_string())"
   ]
  },
  {
   "cell_type": "code",
   "execution_count": 65,
   "metadata": {
    "colab": {
     "base_uri": "https://localhost:8080/"
    },
    "id": "imJE8keuw5C5",
    "outputId": "eef513f9-7772-452a-f7dd-238d0233aa7d"
   },
   "outputs": [
    {
     "name": "stdout",
     "output_type": "stream",
     "text": [
      "       Airline    Source Destination                  Route Dep_Time  \\\n",
      "0       IndiGo  Banglore   New Delhi              BLR → DEL    22:20   \n",
      "1    Air India   Kolkata    Banglore  CCU → IXR → BBI → BLR    05:50   \n",
      "2  Jet Airways     Delhi      Cochin  DEL → LKO → BOM → COK    09:25   \n",
      "3       IndiGo   Kolkata    Banglore        CCU → NAG → BLR    18:05   \n",
      "4       IndiGo  Banglore   New Delhi        BLR → NAG → DEL    16:50   \n",
      "\n",
      "       Arrival_Time Duration Total_Stops Additional_Info    Price  Day  Month  \\\n",
      "0  22-03-2022 01:10   2h 50m    non-stop         No info   3897.0   24      3   \n",
      "1             13:15   7h 25m     2 stops         No info   7662.0    5      1   \n",
      "2  10-06-2022 04:25      19h     2 stops         No info  13882.0    6      9   \n",
      "3             23:30   5h 25m      1 stop         No info   6218.0    5     12   \n",
      "4             21:35   4h 45m      1 stop         No info  13302.0    3      1   \n",
      "\n",
      "   Year  \n",
      "0  2019  \n",
      "1  2019  \n",
      "2  2019  \n",
      "3  2019  \n",
      "4  2019  \n"
     ]
    }
   ],
   "source": [
    "final_df.drop(\"Date_of_Journey\",axis=1,inplace=True)\n",
    "print(final_df .head() )\n"
   ]
  },
  {
   "cell_type": "code",
   "execution_count": 66,
   "metadata": {},
   "outputs": [
    {
     "name": "stdout",
     "output_type": "stream",
     "text": [
      "          Price       Day     Month  Year\n",
      "Price  1.000000 -0.165412  0.010700   NaN\n",
      "Day   -0.165412  1.000000 -0.263645   NaN\n",
      "Month  0.010700 -0.263645  1.000000   NaN\n",
      "Year        NaN       NaN       NaN   NaN\n"
     ]
    },
    {
     "name": "stderr",
     "output_type": "stream",
     "text": [
      "/tmp/ipykernel_50188/4128352962.py:1: FutureWarning: The default value of numeric_only in DataFrame.corr is deprecated. In a future version, it will default to False. Select only valid columns or specify the value of numeric_only to silence this warning.\n",
      "  print(final_df.corr())\n"
     ]
    }
   ],
   "source": [
    "print(final_df.corr())"
   ]
  },
  {
   "cell_type": "code",
   "execution_count": 67,
   "metadata": {
    "id": "ib1OCF-bw8Gi"
   },
   "outputs": [
    {
     "name": "stderr",
     "output_type": "stream",
     "text": [
      "/tmp/ipykernel_50188/1169662210.py:1: FutureWarning: The default value of numeric_only in DataFrame.corr is deprecated. In a future version, it will default to False. Select only valid columns or specify the value of numeric_only to silence this warning.\n",
      "  fd=final_df.corr()\n"
     ]
    }
   ],
   "source": [
    "fd=final_df.corr()\n",
    "#sns.heatmap (fd,annot=True,cmap=\"viridis\")\n",
    "#plt.colorbar()\n",
    "#plt.show()"
   ]
  },
  {
   "cell_type": "code",
   "execution_count": 68,
   "metadata": {
    "colab": {
     "base_uri": "https://localhost:8080/"
    },
    "id": "hM126-9Vw_uI",
    "outputId": "1ca89576-10f8-464d-9aea-7c5797c57c62"
   },
   "outputs": [
    {
     "name": "stdout",
     "output_type": "stream",
     "text": [
      "<class 'pandas.core.frame.DataFrame'>\n",
      "Int64Index: 13354 entries, 0 to 2670\n",
      "Data columns (total 13 columns):\n",
      " #   Column           Non-Null Count  Dtype  \n",
      "---  ------           --------------  -----  \n",
      " 0   Airline          13354 non-null  object \n",
      " 1   Source           13354 non-null  object \n",
      " 2   Destination      13354 non-null  object \n",
      " 3   Route            13353 non-null  object \n",
      " 4   Dep_Time         13354 non-null  object \n",
      " 5   Arrival_Time     13354 non-null  object \n",
      " 6   Duration         13354 non-null  object \n",
      " 7   Total_Stops      13353 non-null  object \n",
      " 8   Additional_Info  13354 non-null  object \n",
      " 9   Price            10683 non-null  float64\n",
      " 10  Day              13354 non-null  float64\n",
      " 11  Month            13354 non-null  int64  \n",
      " 12  Year             13354 non-null  int64  \n",
      "dtypes: float64(2), int64(2), object(9)\n",
      "memory usage: 1.4+ MB\n",
      "None\n"
     ]
    }
   ],
   "source": [
    "final_df[\"Day\"]=final_df [\"Day\"].astype(float)\n",
    "print(final_df.info())"
   ]
  },
  {
   "cell_type": "code",
   "execution_count": 69,
   "metadata": {
    "id": "-QnmbHF-xAsI"
   },
   "outputs": [],
   "source": [
    "#final_df.drop (\"Duration\",inplace=True,axis=1)\n",
    "#print(final_df[\"Arrival_Time\"].str.split(' '))\n",
    "#print(final_df[\"Arrival_Time\"] )\n",
    "#print(final_df.isnull ().sum())\n",
    "#final_df[\"Arrival_hour\"] =final_df[\"Arrival_Time\"].str.split(\":\").str[0]\n",
    "#final_df[\"Arrival_min\"] =final_df[\"Arrival_Time\"].str.split(\":\").str[1]\n",
    "#final_df[\"Arrival_hour\"] =final_df[\"Arrival_hour\"].astype(int)\n",
    "#final_df[\"Arrival_min\"] =final_df[\"Arrival_min\"].astype(int)"
   ]
  },
  {
   "cell_type": "code",
   "execution_count": 70,
   "metadata": {
    "colab": {
     "base_uri": "https://localhost:8080/"
    },
    "id": "0gBZ62gfxESG",
    "outputId": "e834c58f-b218-4577-d664-90df8426d1c7"
   },
   "outputs": [
    {
     "name": "stdout",
     "output_type": "stream",
     "text": [
      "<class 'pandas.core.frame.DataFrame'>\n",
      "Int64Index: 13354 entries, 0 to 2670\n",
      "Data columns (total 14 columns):\n",
      " #   Column           Non-Null Count  Dtype  \n",
      "---  ------           --------------  -----  \n",
      " 0   Airline          13354 non-null  object \n",
      " 1   Source           13354 non-null  object \n",
      " 2   Destination      13354 non-null  object \n",
      " 3   Route            13353 non-null  object \n",
      " 4   Arrival_Time     13354 non-null  object \n",
      " 5   Duration         13354 non-null  object \n",
      " 6   Total_Stops      13353 non-null  object \n",
      " 7   Additional_Info  13354 non-null  object \n",
      " 8   Price            10683 non-null  float64\n",
      " 9   Day              13354 non-null  float64\n",
      " 10  Month            13354 non-null  int64  \n",
      " 11  Year             13354 non-null  int64  \n",
      " 12  Dep_hour         13354 non-null  int64  \n",
      " 13  Dep_time         13354 non-null  object \n",
      "dtypes: float64(2), int64(3), object(9)\n",
      "memory usage: 1.5+ MB\n",
      "None\n"
     ]
    }
   ],
   "source": [
    "#final_df.drop(\"Arrival_Time\",axis=1,inplace=True)\n",
    "final_df[\"Dep_hour\"] =final_df[\"Dep_Time\"].str.split(\":\").str[0]\n",
    "final_df[\"Dep_time\"] =final_df[\"Dep_Time\"].str.split(\":\").str[1]\n",
    "#final_df[\"Dep_min\"] =final_df[\"Dep_min\"].astype(int)\n",
    "final_df[\"Dep_hour\"] =final_df[\"Dep_hour\"].astype(int)\n",
    "final_df.drop(\"Dep_Time\",axis=1,inplace=True)\n",
    "print(final_df .info())"
   ]
  },
  {
   "cell_type": "code",
   "execution_count": 71,
   "metadata": {
    "colab": {
     "base_uri": "https://localhost:8080/"
    },
    "id": "GYyGyNHExHWP",
    "outputId": "71385e16-927a-4954-bfc0-a36359481d55"
   },
   "outputs": [
    {
     "name": "stdout",
     "output_type": "stream",
     "text": [
      "       Airline    Source Destination                  Route      Arrival_Time Duration  Total_Stops Additional_Info    Price   Day  Month  Year  Dep_hour Dep_time\n",
      "0       IndiGo  Banglore   New Delhi              BLR → DEL  22-03-2022 01:10   2h 50m          0.0         No info   3897.0  24.0      3  2019        22       20\n",
      "1    Air India   Kolkata    Banglore  CCU → IXR → BBI → BLR             13:15   7h 25m          2.0         No info   7662.0   5.0      1  2019         5       50\n",
      "2  Jet Airways     Delhi      Cochin  DEL → LKO → BOM → COK  10-06-2022 04:25      19h          2.0         No info  13882.0   6.0      9  2019         9       25\n",
      "3       IndiGo   Kolkata    Banglore        CCU → NAG → BLR             23:30   5h 25m          1.0         No info   6218.0   5.0     12  2019        18       05\n",
      "4       IndiGo  Banglore   New Delhi        BLR → NAG → DEL             21:35   4h 45m          1.0         No info  13302.0   3.0      1  2019        16       50\n"
     ]
    }
   ],
   "source": [
    "final_df[\"Total_Stops\"]=final_df [\"Total_Stops\"].map({\"non-stop\":0,\"2 stops\":2,\"1 stop\":1,\"3 stops\":3,\"4 stops\":4})\n",
    "final_df[final_df[\"Total_Stops\"].isnull()]\n",
    "print(final_df.head().to_string())"
   ]
  },
  {
   "cell_type": "code",
   "execution_count": 72,
   "metadata": {
    "id": "3v9hJevRxLxp"
   },
   "outputs": [
    {
     "name": "stdout",
     "output_type": "stream",
     "text": [
      "<class 'pandas.core.frame.DataFrame'>\n",
      "Int64Index: 13354 entries, 0 to 2670\n",
      "Data columns (total 14 columns):\n",
      " #   Column           Non-Null Count  Dtype  \n",
      "---  ------           --------------  -----  \n",
      " 0   Airline          13354 non-null  object \n",
      " 1   Source           13354 non-null  object \n",
      " 2   Destination      13354 non-null  object \n",
      " 3   Route            13353 non-null  object \n",
      " 4   Arrival_Time     13354 non-null  object \n",
      " 5   Duration         13354 non-null  object \n",
      " 6   Total_Stops      13353 non-null  float64\n",
      " 7   Additional_Info  13354 non-null  object \n",
      " 8   Price            10683 non-null  float64\n",
      " 9   Day              13354 non-null  float64\n",
      " 10  Month            13354 non-null  int64  \n",
      " 11  Year             13354 non-null  int64  \n",
      " 12  Dep_hour         13354 non-null  int64  \n",
      " 13  Dep_time         13354 non-null  object \n",
      "dtypes: float64(3), int64(3), object(8)\n",
      "memory usage: 1.5+ MB\n",
      "None\n"
     ]
    }
   ],
   "source": [
    "print(final_df.info())\n",
    "#final_df.drop(\"Arrival_min\",inplace= True,axis=1)"
   ]
  },
  {
   "cell_type": "code",
   "execution_count": 73,
   "metadata": {
    "colab": {
     "base_uri": "https://localhost:8080/"
    },
    "id": "rqx3V5KCxLu7",
    "outputId": "74ae188c-ba2e-4aec-a7b6-fca34e45bbed"
   },
   "outputs": [
    {
     "name": "stdout",
     "output_type": "stream",
     "text": [
      "        Airline  Source Destination Arrival_Time Duration  Total_Stops  \\\n",
      "6474  Air India  Mumbai   Hyderabad        16:55       5m          2.0   \n",
      "2660  Air India  Mumbai   Hyderabad        16:55       5m          2.0   \n",
      "\n",
      "     Additional_Info    Price  Day  Month  Year  Dep_hour Dep_time  \\\n",
      "6474         No info  17327.0  3.0      6  2019        16       50   \n",
      "2660         No info      NaN  3.0     12  2019        16       50   \n",
      "\n",
      "     Duration_hour  \n",
      "6474            5m  \n",
      "2660            5m  \n"
     ]
    }
   ],
   "source": [
    "#final_df.drop(\"Dep_min\",inplace= True,axis=1)\n",
    "final_df.drop(\"Route\",inplace=True,axis=1)\n",
    "final_df[\"Duration_hour\"]=final_df['Duration'].str.split(' ').str[0].str.split('h').str[0]\n",
    "print(final_df[final_df [\"Duration_hour\"]==\"5m\"])"
   ]
  },
  {
   "cell_type": "code",
   "execution_count": 74,
   "metadata": {
    "colab": {
     "base_uri": "https://localhost:8080/"
    },
    "id": "4BWGOdb2xWBW",
    "outputId": "eeb5d66e-b1e3-4e3f-b8cc-82c60121980f"
   },
   "outputs": [
    {
     "name": "stdout",
     "output_type": "stream",
     "text": [
      "Empty DataFrame\n",
      "Columns: [Airline, Source, Destination, Arrival_Time, Duration, Total_Stops, Additional_Info, Price, Day, Month, Year, Dep_hour, Dep_time, Duration_hour]\n",
      "Index: []\n"
     ]
    }
   ],
   "source": [
    "final_df.drop(6474,axis=0,inplace=True)\n",
    "final_df.drop(2660,axis=0,inplace=True)\n",
    "print(final_df[final_df [\"Duration_hour\"]==\"5m\"])"
   ]
  },
  {
   "cell_type": "code",
   "execution_count": 75,
   "metadata": {
    "colab": {
     "base_uri": "https://localhost:8080/"
    },
    "id": "jpyB3OYpxV-l",
    "outputId": "63cfab3b-f638-433d-d703-c1cdb4cb6875"
   },
   "outputs": [
    {
     "name": "stdout",
     "output_type": "stream",
     "text": [
      "<class 'pandas.core.frame.DataFrame'>\n",
      "Int64Index: 13351 entries, 0 to 2670\n",
      "Data columns (total 13 columns):\n",
      " #   Column           Non-Null Count  Dtype  \n",
      "---  ------           --------------  -----  \n",
      " 0   Airline          13351 non-null  object \n",
      " 1   Source           13351 non-null  object \n",
      " 2   Destination      13351 non-null  object \n",
      " 3   Arrival_Time     13351 non-null  object \n",
      " 4   Total_Stops      13350 non-null  float64\n",
      " 5   Additional_Info  13351 non-null  object \n",
      " 6   Price            10681 non-null  float64\n",
      " 7   Day              13351 non-null  float64\n",
      " 8   Month            13351 non-null  int64  \n",
      " 9   Year             13351 non-null  int64  \n",
      " 10  Dep_hour         13351 non-null  int64  \n",
      " 11  Dep_time         13351 non-null  object \n",
      " 12  Duration_hour    13351 non-null  int64  \n",
      "dtypes: float64(3), int64(4), object(6)\n",
      "memory usage: 1.4+ MB\n",
      "None\n",
      "['IndiGo' 'Air India' 'Jet Airways' 'SpiceJet' 'Multiple carriers' 'GoAir'\n",
      " 'Vistara' 'Air Asia' 'Vistara Premium economy' 'Jet Airways Business'\n",
      " 'Multiple carriers Premium economy' 'Trujet']\n"
     ]
    }
   ],
   "source": [
    "final_df[\"Duration_hour\"]=final_df[\"Duration_hour\"].astype(int)\n",
    "final_df.drop (\"Duration\",inplace=True,axis=1)\n",
    "print(final_df.info())\n",
    "print(final_df[\"Airline\"].unique())"
   ]
  },
  {
   "cell_type": "code",
   "execution_count": 76,
   "metadata": {
    "colab": {
     "base_uri": "https://localhost:8080/"
    },
    "id": "B9tWinD0xV8f",
    "outputId": "233beafe-970c-4a6d-effc-f82783f1dd9f"
   },
   "outputs": [
    {
     "name": "stdout",
     "output_type": "stream",
     "text": [
      "<class 'pandas.core.frame.DataFrame'>\n",
      "Int64Index: 13351 entries, 0 to 2670\n",
      "Data columns (total 13 columns):\n",
      " #   Column           Non-Null Count  Dtype  \n",
      "---  ------           --------------  -----  \n",
      " 0   Airline          13351 non-null  int64  \n",
      " 1   Source           13351 non-null  int64  \n",
      " 2   Destination      13351 non-null  int64  \n",
      " 3   Arrival_Time     13351 non-null  object \n",
      " 4   Total_Stops      13350 non-null  float64\n",
      " 5   Additional_Info  13351 non-null  int64  \n",
      " 6   Price            10681 non-null  float64\n",
      " 7   Day              13351 non-null  float64\n",
      " 8   Month            13351 non-null  int64  \n",
      " 9   Year             13351 non-null  int64  \n",
      " 10  Dep_hour         13351 non-null  int64  \n",
      " 11  Dep_time         13351 non-null  object \n",
      " 12  Duration_hour    13351 non-null  int64  \n",
      "dtypes: float64(3), int64(8), object(2)\n",
      "memory usage: 1.4+ MB\n",
      "None\n"
     ]
    }
   ],
   "source": [
    "from sklearn .preprocessing import LabelEncoder\n",
    "labelencoder=LabelEncoder ()\n",
    "final_df [\"Airline\"]=labelencoder .fit_transform(final_df [\"Airline\"])\n",
    "final_df [\"Source\"]=labelencoder .fit_transform(final_df [\"Source\"])\n",
    "final_df [\"Destination\"]=labelencoder .fit_transform(final_df [\"Destination\"])\n",
    "final_df [\"Additional_Info\"]=labelencoder .fit_transform(final_df [\"Additional_Info\"])\n",
    "print(final_df.info())"
   ]
  },
  {
   "cell_type": "code",
   "execution_count": 77,
   "metadata": {
    "colab": {
     "base_uri": "https://localhost:8080/"
    },
    "id": "-mrixiyCxLrj",
    "outputId": "ca0571a2-5758-433b-d4b0-b6a471c102b3"
   },
   "outputs": [
    {
     "name": "stdout",
     "output_type": "stream",
     "text": [
      "(13351, 13)\n",
      "<class 'pandas.core.frame.DataFrame'>\n",
      "Int64Index: 10680 entries, 0 to 10682\n",
      "Data columns (total 13 columns):\n",
      " #   Column           Non-Null Count  Dtype  \n",
      "---  ------           --------------  -----  \n",
      " 0   Airline          10680 non-null  int64  \n",
      " 1   Source           10680 non-null  int64  \n",
      " 2   Destination      10680 non-null  int64  \n",
      " 3   Arrival_Time     10680 non-null  object \n",
      " 4   Total_Stops      10680 non-null  float64\n",
      " 5   Additional_Info  10680 non-null  int64  \n",
      " 6   Price            10680 non-null  float64\n",
      " 7   Day              10680 non-null  float64\n",
      " 8   Month            10680 non-null  int64  \n",
      " 9   Year             10680 non-null  int64  \n",
      " 10  Dep_hour         10680 non-null  int64  \n",
      " 11  Dep_time         10680 non-null  object \n",
      " 12  Duration_hour    10680 non-null  int64  \n",
      "dtypes: float64(3), int64(8), object(2)\n",
      "memory usage: 1.1+ MB\n",
      "None\n",
      "(10680, 13)\n",
      "       Airline  Source  Destination      Arrival_Time  Total_Stops  \\\n",
      "0            3       0            5  22-03-2022 01:10          0.0   \n",
      "1            1       3            0             13:15          2.0   \n",
      "2            4       2            1  10-06-2022 04:25          2.0   \n",
      "3            3       3            0             23:30          1.0   \n",
      "4            3       0            5             21:35          1.0   \n",
      "...        ...     ...          ...               ...          ...   \n",
      "10678        0       3            0             22:25          0.0   \n",
      "10679        1       3            0             23:20          0.0   \n",
      "10680        4       0            2             11:20          0.0   \n",
      "10681       10       0            5             14:10          0.0   \n",
      "10682        1       2            1             19:15          2.0   \n",
      "\n",
      "       Additional_Info    Price   Day  Month  Year  Dep_hour Dep_time  \\\n",
      "0                    8   3897.0  24.0      3  2019        22       20   \n",
      "1                    8   7662.0   5.0      1  2019         5       50   \n",
      "2                    8  13882.0   6.0      9  2019         9       25   \n",
      "3                    8   6218.0   5.0     12  2019        18       05   \n",
      "4                    8  13302.0   3.0      1  2019        16       50   \n",
      "...                ...      ...   ...    ...   ...       ...      ...   \n",
      "10678                8   4107.0   4.0      9  2019        19       55   \n",
      "10679                8   4145.0  27.0      4  2019        20       45   \n",
      "10680                8   7229.0  27.0      4  2019         8       20   \n",
      "10681                8  12648.0   3.0      1  2019        11       30   \n",
      "10682                8  11753.0   5.0      9  2019        10       55   \n",
      "\n",
      "       Duration_hour  \n",
      "0                  2  \n",
      "1                  7  \n",
      "2                 19  \n",
      "3                  5  \n",
      "4                  4  \n",
      "...              ...  \n",
      "10678              2  \n",
      "10679              2  \n",
      "10680              3  \n",
      "10681              2  \n",
      "10682              8  \n",
      "\n",
      "[10680 rows x 13 columns]\n"
     ]
    }
   ],
   "source": [
    "pd.get_dummies(final_df,columns=[\"Airline\",\"Source\",\"Destination\",\"Additional_Info\"],drop_first=True)\n",
    "#test_data.drop(\"Price\",inplace= True,axis=1)\n",
    "#print(final_df.to_string() )\n",
    "print(final_df.shape)\n",
    "final_df.dropna(inplace=True)\n",
    "test_data=final_df[final_df[\"Price\"].isnull()]\n",
    "train_data=final_df [~final_df [\"Price\"].isnull()]\n",
    "print(train_data .info())\n",
    "print(train_data .shape)\n",
    "print(train_data )"
   ]
  },
  {
   "cell_type": "code",
   "execution_count": 78,
   "metadata": {
    "colab": {
     "base_uri": "https://localhost:8080/"
    },
    "id": "Vlc2VqKmxuXo",
    "outputId": "d1ca7fee-3a85-4c90-e702-ad27a23d618a"
   },
   "outputs": [
    {
     "name": "stdout",
     "output_type": "stream",
     "text": [
      "       Airline  Source  Destination  Total_Stops  Additional_Info   Day  \\\n",
      "0            3       0            5          0.0                8  24.0   \n",
      "1            1       3            0          2.0                8   5.0   \n",
      "2            4       2            1          2.0                8   6.0   \n",
      "3            3       3            0          1.0                8   5.0   \n",
      "4            3       0            5          1.0                8   3.0   \n",
      "...        ...     ...          ...          ...              ...   ...   \n",
      "10678        0       3            0          0.0                8   4.0   \n",
      "10679        1       3            0          0.0                8  27.0   \n",
      "10680        4       0            2          0.0                8  27.0   \n",
      "10681       10       0            5          0.0                8   3.0   \n",
      "10682        1       2            1          2.0                8   5.0   \n",
      "\n",
      "       Month  Year  Dep_hour  \n",
      "0          3  2019        22  \n",
      "1          1  2019         5  \n",
      "2          9  2019         9  \n",
      "3         12  2019        18  \n",
      "4          1  2019        16  \n",
      "...      ...   ...       ...  \n",
      "10678      9  2019        19  \n",
      "10679      4  2019        20  \n",
      "10680      4  2019         8  \n",
      "10681      1  2019        11  \n",
      "10682      9  2019        10  \n",
      "\n",
      "[10680 rows x 9 columns]\n",
      "         Price\n",
      "0       3897.0\n",
      "1       7662.0\n",
      "2      13882.0\n",
      "3       6218.0\n",
      "4      13302.0\n",
      "...        ...\n",
      "10678   4107.0\n",
      "10679   4145.0\n",
      "10680   7229.0\n",
      "10681  12648.0\n",
      "10682  11753.0\n",
      "\n",
      "[10680 rows x 1 columns]\n"
     ]
    }
   ],
   "source": [
    "#final_df.dropna(inplace=True)\n",
    "X=train_data[ [\"Airline\",\"Source\",\"Destination\",\"Total_Stops\",\"Additional_Info\",\"Day\",\"Month\",\"Year\",\"Dep_hour\"]]\n",
    "y=train_data [[\"Price\"]]\n",
    "X_test1=test_data[ [\"Airline\",\"Source\",\"Destination\",\"Total_Stops\",\"Additional_Info\",\"Day\",\"Month\",\"Year\",\"Dep_hour\"]]\n",
    "#print(final_df[final_df==\"Nan\"])\n",
    "print(X)\n",
    "print(y)"
   ]
  },
  {
   "cell_type": "code",
   "execution_count": 80,
   "metadata": {
    "colab": {
     "base_uri": "https://localhost:8080/"
    },
    "id": "wRtqeKr7xuUy",
    "outputId": "9f905bb4-eb6a-41f0-86c4-2d31cbed7c80"
   },
   "outputs": [
    {
     "name": "stdout",
     "output_type": "stream",
     "text": [
      "      index    Price\n",
      "0      3277   4050.0\n",
      "1      1923   5644.0\n",
      "2      6738   4544.0\n",
      "3      2515   3419.0\n",
      "4      9822   6704.0\n",
      "...     ...      ...\n",
      "2131   3689  13731.0\n",
      "2132   1418  10368.0\n",
      "2133   3148  10697.0\n",
      "2134   5752   5842.0\n",
      "2135   4046  14848.0\n",
      "\n",
      "[2136 rows x 2 columns]\n"
     ]
    }
   ],
   "source": [
    "from sklearn.model_selection import train_test_split\n",
    "X_train,X_test,y_train,y_test=train_test_split(X,y,train_size= .8)\n",
    "y_test.reset_index(inplace=True)\n",
    "print(y_test)\n",
    "y_test.drop(\"index\",inplace=True,axis=1)"
   ]
  },
  {
   "cell_type": "code",
   "execution_count": 82,
   "metadata": {
    "colab": {
     "base_uri": "https://localhost:8080/"
    },
    "id": "Vn2B6UqzxuSX",
    "outputId": "181697aa-158b-4dbc-ea00-56730fe67bb5"
   },
   "outputs": [
    {
     "name": "stderr",
     "output_type": "stream",
     "text": [
      "/tmp/ipykernel_50188/3546914728.py:3: DataConversionWarning: A column-vector y was passed when a 1d array was expected. Please change the shape of y to (n_samples,), for example using ravel().\n",
      "  random_regr.fit(X_train ,y_train )\n"
     ]
    },
    {
     "name": "stdout",
     "output_type": "stream",
     "text": [
      "   predicted_RF\n",
      "0   5268.943333\n",
      "1   4729.430000\n",
      "2   4631.800000\n",
      "3   4365.580000\n",
      "4   7130.743083\n"
     ]
    }
   ],
   "source": [
    "from sklearn.ensemble import RandomForestRegressor\n",
    "random_regr=RandomForestRegressor ()\n",
    "random_regr.fit(X_train ,y_train )\n",
    "y_predicted=random_regr .predict(X_test)\n",
    "y_pred=pd.DataFrame (y_predicted )\n",
    "#y_pred.columns.rename({0:\"Predicted\"})\n",
    "y_pred.columns =[\"predicted_RF\"]\n",
    "print(y_pred.head())\n"
   ]
  },
  {
   "cell_type": "code",
   "execution_count": 87,
   "metadata": {},
   "outputs": [
    {
     "name": "stdout",
     "output_type": "stream",
     "text": [
      "    Price\n",
      "0  4050.0\n",
      "1  5644.0\n",
      "2  4544.0\n",
      "3  3419.0\n",
      "4  6704.0\n"
     ]
    }
   ],
   "source": [
    "print(y_test.head())"
   ]
  },
  {
   "cell_type": "code",
   "execution_count": 88,
   "metadata": {
    "colab": {
     "base_uri": "https://localhost:8080/"
    },
    "id": "8uSEze_LyNbn",
    "outputId": "d96e2043-a528-4170-a14d-15a683b25643"
   },
   "outputs": [
    {
     "name": "stdout",
     "output_type": "stream",
     "text": [
      "r2_RF= 0.8646732531962105\n",
      "(8544, 9)\n",
      "(2136, 9)\n",
      "(8544, 1)\n",
      "(2136, 1)\n",
      "      Airline  Source  Destination  Total_Stops  Additional_Info  Day  Month  \\\n",
      "6232        6       2            1          1.0                8  6.0      9   \n",
      "9806        4       3            0          1.0                8  5.0      9   \n",
      "9699        8       3            0          1.0                8  5.0      9   \n",
      "4436        1       3            0          1.0                8  4.0      1   \n",
      "7712        3       3            0          1.0                8  5.0     12   \n",
      "\n",
      "      Year  Dep_hour  \n",
      "6232  2019         7  \n",
      "9806  2019        20  \n",
      "9699  2019        15  \n",
      "4436  2019        20  \n",
      "7712  2019        21  \n"
     ]
    }
   ],
   "source": [
    "from sklearn.metrics import r2_score\n",
    "r2=r2_score (y_test,y_pred)\n",
    "print(\"r2_RF=\",r2)\n",
    "print(X_train .shape)\n",
    "print(X_test .shape)\n",
    "print(y_train .shape)\n",
    "print(y_test .shape)\n",
    "print(X_train .head())"
   ]
  },
  {
   "cell_type": "code",
   "execution_count": 89,
   "metadata": {
    "colab": {
     "base_uri": "https://localhost:8080/"
    },
    "id": "ZYQl7xvJyNY3",
    "outputId": "b479a258-4b4e-4b94-f13f-d5e266c3a713"
   },
   "outputs": [
    {
     "name": "stdout",
     "output_type": "stream",
     "text": [
      "(9, 1)\n"
     ]
    }
   ],
   "source": [
    "train_data_reshaped=X_train.values.reshape(8544,9,1)\n",
    "train_label_reshaped=y_train.values.reshape(8544,1,1)\n",
    "test_data_reshaped=X_test.values.reshape(2136,9,1)\n",
    "test_label_reshaped=y_test.values.reshape(2136,1,1)\n",
    "n_timesteps=train_data_reshaped.shape[1]\n",
    "n_features=train_data_reshaped .shape[2]\n",
    "print(test_data_reshaped[0].shape)"
   ]
  },
  {
   "cell_type": "code",
   "execution_count": 93,
   "metadata": {
    "colab": {
     "base_uri": "https://localhost:8080/"
    },
    "id": "FY2ePPtSyNV1",
    "outputId": "b9771c96-cab3-4715-fece-c2bb015c55ac"
   },
   "outputs": [
    {
     "name": "stderr",
     "output_type": "stream",
     "text": [
      "2022-12-25 22:18:14.763783: I tensorflow/core/platform/cpu_feature_guard.cc:193] This TensorFlow binary is optimized with oneAPI Deep Neural Network Library (oneDNN) to use the following CPU instructions in performance-critical operations:  AVX2 FMA\n",
      "To enable them in other operations, rebuild TensorFlow with the appropriate compiler flags.\n",
      "2022-12-25 22:18:17.180171: W tensorflow/compiler/xla/stream_executor/platform/default/dso_loader.cc:64] Could not load dynamic library 'libcudart.so.11.0'; dlerror: libcudart.so.11.0: cannot open shared object file: No such file or directory\n",
      "2022-12-25 22:18:17.180333: I tensorflow/compiler/xla/stream_executor/cuda/cudart_stub.cc:29] Ignore above cudart dlerror if you do not have a GPU set up on your machine.\n",
      "2022-12-25 22:18:19.921054: W tensorflow/compiler/xla/stream_executor/platform/default/dso_loader.cc:64] Could not load dynamic library 'libnvinfer.so.7'; dlerror: libnvinfer.so.7: cannot open shared object file: No such file or directory\n",
      "2022-12-25 22:18:19.921370: W tensorflow/compiler/xla/stream_executor/platform/default/dso_loader.cc:64] Could not load dynamic library 'libnvinfer_plugin.so.7'; dlerror: libnvinfer_plugin.so.7: cannot open shared object file: No such file or directory\n",
      "2022-12-25 22:18:19.921385: W tensorflow/compiler/tf2tensorrt/utils/py_utils.cc:38] TF-TRT Warning: Cannot dlopen some TensorRT libraries. If you would like to use Nvidia GPU with TensorRT, please make sure the missing libraries mentioned above are installed properly.\n",
      "2022-12-25 22:18:22.708021: W tensorflow/compiler/xla/stream_executor/platform/default/dso_loader.cc:64] Could not load dynamic library 'libcuda.so.1'; dlerror: libcuda.so.1: cannot open shared object file: No such file or directory\n",
      "2022-12-25 22:18:22.708167: W tensorflow/compiler/xla/stream_executor/cuda/cuda_driver.cc:265] failed call to cuInit: UNKNOWN ERROR (303)\n",
      "2022-12-25 22:18:22.708311: I tensorflow/compiler/xla/stream_executor/cuda/cuda_diagnostics.cc:156] kernel driver does not appear to be running on this host (shubh): /proc/driver/nvidia/version does not exist\n",
      "2022-12-25 22:18:22.721030: I tensorflow/core/platform/cpu_feature_guard.cc:193] This TensorFlow binary is optimized with oneAPI Deep Neural Network Library (oneDNN) to use the following CPU instructions in performance-critical operations:  AVX2 FMA\n",
      "To enable them in other operations, rebuild TensorFlow with the appropriate compiler flags.\n"
     ]
    },
    {
     "name": "stdout",
     "output_type": "stream",
     "text": [
      "Model: \"sequential\"\n",
      "_________________________________________________________________\n",
      " Layer (type)                Output Shape              Param #   \n",
      "=================================================================\n",
      " lstm (LSTM)                 (None, 9, 150)            91200     \n",
      "                                                                 \n",
      " lstm_1 (LSTM)               (None, 9, 150)            180600    \n",
      "                                                                 \n",
      " lstm_2 (LSTM)               (None, 9, 150)            180600    \n",
      "                                                                 \n",
      " lstm_3 (LSTM)               (None, 150)               180600    \n",
      "                                                                 \n",
      " dense (Dense)               (None, 100)               15100     \n",
      "                                                                 \n",
      " dense_1 (Dense)             (None, 1)                 101       \n",
      "                                                                 \n",
      "=================================================================\n",
      "Total params: 648,201\n",
      "Trainable params: 648,201\n",
      "Non-trainable params: 0\n",
      "_________________________________________________________________\n",
      "None\n"
     ]
    }
   ],
   "source": [
    "import tensorflow as tf\n",
    "from tensorflow import keras\n",
    "from keras import Sequential ,Model ,layers\n",
    "model=Sequential()\n",
    "model.add(keras.layers.Input(shape=(n_timesteps ,n_features )))\n",
    "model.add(keras.layers.LSTM(150,return_sequences=True, activation=\"relu\"))\n",
    "model.add(keras.layers.LSTM (150,return_sequences=True,activation=\"relu\"))\n",
    "model.add(keras.layers.LSTM (150,return_sequences=True,activation=\"relu\"))\n",
    "model.add(keras.layers.LSTM (150,return_sequences=False,activation=\"relu\"))\n",
    "model.add(keras.layers.Dense(100,activation=\"relu\"))\n",
    "#model.add(Flatten())\n",
    "model.add(keras.layers.Dense(1,activation=\"linear\"))\n",
    "model.compile(\n",
    "    optimizer=\"Adam\",\n",
    "    loss=\"mean_squared_error\",\n",
    "    metrics=['accuracy'])\n",
    "print(model.summary() )"
   ]
  },
  {
   "cell_type": "code",
   "execution_count": 94,
   "metadata": {
    "colab": {
     "base_uri": "https://localhost:8080/"
    },
    "id": "5G9NaZVjyRAu",
    "outputId": "c5e847b9-0963-454b-cc36-271be8aaa5c0"
   },
   "outputs": [
    {
     "name": "stdout",
     "output_type": "stream",
     "text": [
      "Epoch 1/100\n",
      "267/267 [==============================] - 21s 55ms/step - loss: 28022750.0000 - accuracy: 0.0000e+00\n",
      "Epoch 2/100\n",
      "267/267 [==============================] - 14s 51ms/step - loss: 20213276.0000 - accuracy: 0.0000e+00\n",
      "Epoch 3/100\n",
      "267/267 [==============================] - 13s 50ms/step - loss: 13603598.0000 - accuracy: 0.0000e+00\n",
      "Epoch 4/100\n",
      "267/267 [==============================] - 14s 51ms/step - loss: 12219391.0000 - accuracy: 0.0000e+00\n",
      "Epoch 5/100\n",
      "267/267 [==============================] - 14s 51ms/step - loss: 11967839.0000 - accuracy: 0.0000e+00\n",
      "Epoch 6/100\n",
      "267/267 [==============================] - 14s 51ms/step - loss: 10803339.0000 - accuracy: 0.0000e+00\n",
      "Epoch 7/100\n",
      "267/267 [==============================] - 14s 52ms/step - loss: 10930162.0000 - accuracy: 0.0000e+00\n",
      "Epoch 8/100\n",
      "267/267 [==============================] - 14s 52ms/step - loss: 10976357.0000 - accuracy: 0.0000e+00\n",
      "Epoch 9/100\n",
      "267/267 [==============================] - 14s 51ms/step - loss: 9579965.0000 - accuracy: 0.0000e+00\n",
      "Epoch 10/100\n",
      "267/267 [==============================] - 14s 52ms/step - loss: 8182364.0000 - accuracy: 0.0000e+00\n",
      "Epoch 11/100\n",
      "267/267 [==============================] - 14s 52ms/step - loss: 7657769.5000 - accuracy: 0.0000e+00\n",
      "Epoch 12/100\n",
      "267/267 [==============================] - 14s 51ms/step - loss: 8332823.0000 - accuracy: 0.0000e+00\n",
      "Epoch 13/100\n",
      "267/267 [==============================] - 14s 51ms/step - loss: 7467696.0000 - accuracy: 0.0000e+00\n",
      "Epoch 14/100\n",
      "267/267 [==============================] - 14s 52ms/step - loss: 7058833.5000 - accuracy: 0.0000e+00\n",
      "Epoch 15/100\n",
      "267/267 [==============================] - 14s 51ms/step - loss: 6407094.0000 - accuracy: 0.0000e+00\n",
      "Epoch 16/100\n",
      "267/267 [==============================] - 14s 51ms/step - loss: 11619801.0000 - accuracy: 0.0000e+00\n",
      "Epoch 17/100\n",
      "267/267 [==============================] - 14s 52ms/step - loss: 8275292.0000 - accuracy: 0.0000e+00\n",
      "Epoch 18/100\n",
      "267/267 [==============================] - 14s 52ms/step - loss: 6621056.5000 - accuracy: 0.0000e+00\n",
      "Epoch 19/100\n",
      "267/267 [==============================] - 14s 53ms/step - loss: 6558269.0000 - accuracy: 0.0000e+00\n",
      "Epoch 20/100\n",
      "267/267 [==============================] - 14s 53ms/step - loss: 6415781.5000 - accuracy: 0.0000e+00\n",
      "Epoch 21/100\n",
      "267/267 [==============================] - 14s 54ms/step - loss: 6052648.5000 - accuracy: 0.0000e+00\n",
      "Epoch 22/100\n",
      "267/267 [==============================] - 15s 55ms/step - loss: 5849204.5000 - accuracy: 0.0000e+00\n",
      "Epoch 23/100\n",
      "267/267 [==============================] - 14s 53ms/step - loss: 5553956.0000 - accuracy: 0.0000e+00\n",
      "Epoch 24/100\n",
      "267/267 [==============================] - 14s 51ms/step - loss: 5593322.0000 - accuracy: 0.0000e+00\n",
      "Epoch 25/100\n",
      "267/267 [==============================] - 14s 52ms/step - loss: 6361918.5000 - accuracy: 0.0000e+00\n",
      "Epoch 26/100\n",
      "267/267 [==============================] - 14s 52ms/step - loss: 5623481.5000 - accuracy: 0.0000e+00\n",
      "Epoch 27/100\n",
      "267/267 [==============================] - 14s 52ms/step - loss: 5514749.5000 - accuracy: 0.0000e+00\n",
      "Epoch 28/100\n",
      "267/267 [==============================] - 14s 52ms/step - loss: 5031053.0000 - accuracy: 0.0000e+00\n",
      "Epoch 29/100\n",
      "267/267 [==============================] - 15s 57ms/step - loss: 5527693.5000 - accuracy: 0.0000e+00\n",
      "Epoch 30/100\n",
      "267/267 [==============================] - 14s 53ms/step - loss: 5119418.0000 - accuracy: 0.0000e+00\n",
      "Epoch 31/100\n",
      "267/267 [==============================] - 15s 55ms/step - loss: 4783406.0000 - accuracy: 0.0000e+00\n",
      "Epoch 32/100\n",
      "267/267 [==============================] - 15s 56ms/step - loss: 5349073.5000 - accuracy: 0.0000e+00\n",
      "Epoch 33/100\n",
      "267/267 [==============================] - 15s 57ms/step - loss: 16707114.0000 - accuracy: 0.0000e+00\n",
      "Epoch 34/100\n",
      "267/267 [==============================] - 15s 55ms/step - loss: 10471017.0000 - accuracy: 0.0000e+00\n",
      "Epoch 35/100\n",
      "267/267 [==============================] - 15s 55ms/step - loss: 8040362.0000 - accuracy: 0.0000e+00\n",
      "Epoch 36/100\n",
      "267/267 [==============================] - 15s 56ms/step - loss: 7008580.0000 - accuracy: 0.0000e+00\n",
      "Epoch 37/100\n",
      "267/267 [==============================] - 15s 56ms/step - loss: 6587550.5000 - accuracy: 0.0000e+00\n",
      "Epoch 38/100\n",
      "267/267 [==============================] - 15s 57ms/step - loss: 7729130.5000 - accuracy: 0.0000e+00\n",
      "Epoch 39/100\n",
      "267/267 [==============================] - 14s 54ms/step - loss: 6241324.5000 - accuracy: 0.0000e+00\n",
      "Epoch 40/100\n",
      "267/267 [==============================] - 15s 56ms/step - loss: 6103471.5000 - accuracy: 0.0000e+00\n",
      "Epoch 41/100\n",
      "267/267 [==============================] - 14s 53ms/step - loss: 6116478.5000 - accuracy: 0.0000e+00\n",
      "Epoch 42/100\n",
      "267/267 [==============================] - 15s 55ms/step - loss: 5987283.5000 - accuracy: 0.0000e+00\n",
      "Epoch 43/100\n",
      "267/267 [==============================] - 14s 52ms/step - loss: 5725356.0000 - accuracy: 0.0000e+00\n",
      "Epoch 44/100\n",
      "267/267 [==============================] - 14s 52ms/step - loss: 5458035.0000 - accuracy: 0.0000e+00\n",
      "Epoch 45/100\n",
      "267/267 [==============================] - 14s 52ms/step - loss: 5616122.5000 - accuracy: 0.0000e+00\n",
      "Epoch 46/100\n",
      "267/267 [==============================] - 14s 52ms/step - loss: 5250950.0000 - accuracy: 0.0000e+00\n",
      "Epoch 47/100\n",
      "267/267 [==============================] - 14s 52ms/step - loss: 5181234.0000 - accuracy: 0.0000e+00\n",
      "Epoch 48/100\n",
      "267/267 [==============================] - 14s 54ms/step - loss: 5196280.5000 - accuracy: 0.0000e+00\n",
      "Epoch 49/100\n",
      "267/267 [==============================] - 14s 53ms/step - loss: 5460113.5000 - accuracy: 0.0000e+00\n",
      "Epoch 50/100\n",
      "267/267 [==============================] - 13s 49ms/step - loss: 5178853.5000 - accuracy: 0.0000e+00\n",
      "Epoch 51/100\n",
      "267/267 [==============================] - 12s 47ms/step - loss: 5128879.5000 - accuracy: 0.0000e+00\n",
      "Epoch 52/100\n",
      "267/267 [==============================] - 12s 46ms/step - loss: 5125965.5000 - accuracy: 0.0000e+00\n",
      "Epoch 53/100\n",
      "267/267 [==============================] - 13s 49ms/step - loss: 4719205.0000 - accuracy: 0.0000e+00\n",
      "Epoch 54/100\n",
      "267/267 [==============================] - 13s 50ms/step - loss: 4847172.5000 - accuracy: 0.0000e+00\n",
      "Epoch 55/100\n",
      "267/267 [==============================] - 13s 48ms/step - loss: 5307657.0000 - accuracy: 0.0000e+00\n",
      "Epoch 56/100\n",
      "267/267 [==============================] - 12s 46ms/step - loss: 6102389.0000 - accuracy: 0.0000e+00\n",
      "Epoch 57/100\n",
      "267/267 [==============================] - 12s 45ms/step - loss: 5327697.5000 - accuracy: 0.0000e+00\n",
      "Epoch 58/100\n",
      "267/267 [==============================] - 14s 52ms/step - loss: 4935869.5000 - accuracy: 0.0000e+00\n",
      "Epoch 59/100\n",
      "267/267 [==============================] - 14s 54ms/step - loss: 10147726.0000 - accuracy: 0.0000e+00\n",
      "Epoch 60/100\n",
      "267/267 [==============================] - 14s 53ms/step - loss: 5650722.0000 - accuracy: 0.0000e+00\n",
      "Epoch 61/100\n",
      "267/267 [==============================] - 14s 54ms/step - loss: 5337134.0000 - accuracy: 0.0000e+00\n",
      "Epoch 62/100\n",
      "267/267 [==============================] - 14s 54ms/step - loss: 5059656.5000 - accuracy: 0.0000e+00\n",
      "Epoch 63/100\n",
      "267/267 [==============================] - 14s 54ms/step - loss: 4644902.0000 - accuracy: 0.0000e+00\n",
      "Epoch 64/100\n",
      "267/267 [==============================] - 14s 54ms/step - loss: 4734006.5000 - accuracy: 0.0000e+00\n",
      "Epoch 65/100\n",
      "267/267 [==============================] - 20s 74ms/step - loss: 4619472.5000 - accuracy: 0.0000e+00\n",
      "Epoch 66/100\n",
      "267/267 [==============================] - 21s 78ms/step - loss: 4579836.0000 - accuracy: 0.0000e+00\n",
      "Epoch 67/100\n",
      "267/267 [==============================] - 21s 80ms/step - loss: 4752189.5000 - accuracy: 0.0000e+00\n",
      "Epoch 68/100\n",
      "267/267 [==============================] - 22s 84ms/step - loss: 4342857.5000 - accuracy: 0.0000e+00\n",
      "Epoch 69/100\n",
      "267/267 [==============================] - 22s 83ms/step - loss: 4420490.0000 - accuracy: 0.0000e+00\n",
      "Epoch 70/100\n",
      "267/267 [==============================] - 23s 88ms/step - loss: 4463813.5000 - accuracy: 0.0000e+00\n",
      "Epoch 71/100\n",
      "267/267 [==============================] - 16s 61ms/step - loss: 4739281.5000 - accuracy: 0.0000e+00\n",
      "Epoch 72/100\n",
      "267/267 [==============================] - 13s 51ms/step - loss: 4808073.0000 - accuracy: 0.0000e+00\n",
      "Epoch 73/100\n",
      "267/267 [==============================] - 13s 50ms/step - loss: 4600630.0000 - accuracy: 0.0000e+00\n",
      "Epoch 74/100\n",
      "267/267 [==============================] - 13s 49ms/step - loss: 4484482.0000 - accuracy: 0.0000e+00\n",
      "Epoch 75/100\n",
      "267/267 [==============================] - 13s 50ms/step - loss: 4345353.5000 - accuracy: 0.0000e+00\n",
      "Epoch 76/100\n",
      "267/267 [==============================] - 13s 50ms/step - loss: 4375063.5000 - accuracy: 0.0000e+00\n",
      "Epoch 77/100\n",
      "267/267 [==============================] - 14s 51ms/step - loss: 4240198.5000 - accuracy: 0.0000e+00\n",
      "Epoch 78/100\n",
      "267/267 [==============================] - 14s 52ms/step - loss: 4322461.5000 - accuracy: 0.0000e+00\n",
      "Epoch 79/100\n",
      "267/267 [==============================] - 14s 52ms/step - loss: 4222150.0000 - accuracy: 0.0000e+00\n",
      "Epoch 80/100\n",
      "267/267 [==============================] - 14s 52ms/step - loss: 4251052.5000 - accuracy: 0.0000e+00\n",
      "Epoch 81/100\n",
      "267/267 [==============================] - 14s 52ms/step - loss: 4082183.7500 - accuracy: 0.0000e+00\n",
      "Epoch 82/100\n",
      "267/267 [==============================] - 14s 51ms/step - loss: 4314236.0000 - accuracy: 0.0000e+00\n",
      "Epoch 83/100\n",
      "267/267 [==============================] - 14s 52ms/step - loss: 4216288.5000 - accuracy: 0.0000e+00\n",
      "Epoch 84/100\n",
      "267/267 [==============================] - 14s 52ms/step - loss: 4441690.0000 - accuracy: 0.0000e+00\n",
      "Epoch 85/100\n",
      "267/267 [==============================] - 14s 52ms/step - loss: 5302014.5000 - accuracy: 0.0000e+00\n",
      "Epoch 86/100\n",
      "267/267 [==============================] - 14s 52ms/step - loss: 7545081.5000 - accuracy: 0.0000e+00\n",
      "Epoch 87/100\n",
      "267/267 [==============================] - 14s 52ms/step - loss: 5662567.5000 - accuracy: 0.0000e+00\n",
      "Epoch 88/100\n",
      "267/267 [==============================] - 14s 52ms/step - loss: 5090206.5000 - accuracy: 0.0000e+00\n",
      "Epoch 89/100\n",
      "267/267 [==============================] - 14s 52ms/step - loss: 4502040.5000 - accuracy: 0.0000e+00\n",
      "Epoch 90/100\n",
      "267/267 [==============================] - 14s 54ms/step - loss: 4255213.5000 - accuracy: 0.0000e+00\n",
      "Epoch 91/100\n",
      "267/267 [==============================] - 14s 53ms/step - loss: 4502396.0000 - accuracy: 0.0000e+00\n",
      "Epoch 92/100\n",
      "267/267 [==============================] - 14s 54ms/step - loss: 4766546.5000 - accuracy: 0.0000e+00\n",
      "Epoch 93/100\n",
      "267/267 [==============================] - 14s 54ms/step - loss: 4133783.0000 - accuracy: 0.0000e+00\n",
      "Epoch 94/100\n",
      "267/267 [==============================] - 14s 53ms/step - loss: 4106968.2500 - accuracy: 0.0000e+00\n",
      "Epoch 95/100\n",
      "267/267 [==============================] - 15s 55ms/step - loss: 4074536.2500 - accuracy: 0.0000e+00\n",
      "Epoch 96/100\n",
      "267/267 [==============================] - 14s 53ms/step - loss: 4119566.0000 - accuracy: 0.0000e+00\n",
      "Epoch 97/100\n",
      "267/267 [==============================] - 15s 56ms/step - loss: 4628223.0000 - accuracy: 0.0000e+00\n",
      "Epoch 98/100\n",
      "267/267 [==============================] - 15s 54ms/step - loss: 4186652.2500 - accuracy: 0.0000e+00\n",
      "Epoch 99/100\n",
      "267/267 [==============================] - 14s 53ms/step - loss: 4074202.5000 - accuracy: 0.0000e+00\n",
      "Epoch 100/100\n",
      "267/267 [==============================] - 14s 53ms/step - loss: 3971109.7500 - accuracy: 0.0000e+00\n",
      "67/67 [==============================] - 2s 18ms/step\n",
      "[ 5556.1284  4749.7983  5618.875  ... 12744.651   6514.0835 10394.73  ]\n",
      "   predicted_LSTM\n",
      "0     5556.128418\n",
      "1     4749.798340\n",
      "2     5618.875000\n",
      "3     4844.301758\n",
      "4     6524.554688\n",
      "    Price\n",
      "0  4050.0\n",
      "1  5644.0\n",
      "2  4544.0\n",
      "3  3419.0\n",
      "4  6704.0\n",
      "        Price  predicted_RF  predicted_LSTM\n",
      "0      4050.0   5268.943333     5556.128418\n",
      "1      5644.0   4729.430000     4749.798340\n",
      "2      4544.0   4631.800000     5618.875000\n",
      "3      3419.0   4365.580000     4844.301758\n",
      "4      6704.0   7130.743083     6524.554688\n",
      "...       ...           ...             ...\n",
      "2131  13731.0  14574.500000    13858.870117\n",
      "2132  10368.0  11102.778639    12295.188477\n",
      "2133  10697.0  10856.984417    12744.651367\n",
      "2134   5842.0   6613.303333     6514.083496\n",
      "2135  14848.0  11214.318833    10394.730469\n",
      "\n",
      "[2136 rows x 3 columns]\n",
      "r2 score= 0.8274612800986805\n"
     ]
    },
    {
     "data": {
      "text/plain": [
       "'y_pred1[\"predicted\"]=y_pred1[\"predicted\"].map({True:1,False:0})\\nprint(y_pred1 )\\nprint(y_pred1[\"predicted\"].value_counts() )'"
      ]
     },
     "execution_count": 94,
     "metadata": {},
     "output_type": "execute_result"
    }
   ],
   "source": [
    "model.fit(train_data_reshaped,train_label_reshaped ,epochs= 100)\n",
    "\n",
    "#result = model.predict(padded_docs_test, verbose=2)\n",
    "#result = result > threshold\n",
    "\"\"\"y_pred1[\"predicted\"]=y_pred1[\"predicted\"].map({True:1,False:0})\n",
    "print(y_pred1 )\n",
    "print(y_pred1[\"predicted\"].value_counts() )\"\"\"\n"
   ]
  },
  {
   "cell_type": "code",
   "execution_count": 95,
   "metadata": {
    "id": "wN1-8GeTyQ-V"
   },
   "outputs": [
    {
     "name": "stdout",
     "output_type": "stream",
     "text": [
      "67/67 [==============================] - 1s 17ms/step\n",
      "[ 5556.1284  4749.7983  5618.875  ... 12744.651   6514.0835 10394.73  ]\n"
     ]
    }
   ],
   "source": [
    "y_pred1_nn=model.predict (test_data_reshaped).flatten()\n",
    "print(y_pred1_nn)"
   ]
  },
  {
   "cell_type": "code",
   "execution_count": 96,
   "metadata": {
    "id": "GXv62TZsyQ7e"
   },
   "outputs": [
    {
     "name": "stdout",
     "output_type": "stream",
     "text": [
      "   predicted_LSTM\n",
      "0     5556.128418\n",
      "1     4749.798340\n",
      "2     5618.875000\n",
      "3     4844.301758\n",
      "4     6524.554688\n"
     ]
    }
   ],
   "source": [
    "y_pred1=pd.DataFrame (y_pred1_nn )\n",
    "y_pred1.columns =[\"predicted_LSTM\"]\n",
    "print(y_pred1.head())"
   ]
  },
  {
   "cell_type": "code",
   "execution_count": 97,
   "metadata": {},
   "outputs": [
    {
     "name": "stdout",
     "output_type": "stream",
     "text": [
      "    Price\n",
      "0  4050.0\n",
      "1  5644.0\n",
      "2  4544.0\n",
      "3  3419.0\n",
      "4  6704.0\n"
     ]
    }
   ],
   "source": [
    "print(y_test.head())"
   ]
  },
  {
   "cell_type": "code",
   "execution_count": 98,
   "metadata": {},
   "outputs": [
    {
     "name": "stdout",
     "output_type": "stream",
     "text": [
      "        Price  predicted_RF  predicted_LSTM\n",
      "0      4050.0   5268.943333     5556.128418\n",
      "1      5644.0   4729.430000     4749.798340\n",
      "2      4544.0   4631.800000     5618.875000\n",
      "3      3419.0   4365.580000     4844.301758\n",
      "4      6704.0   7130.743083     6524.554688\n",
      "...       ...           ...             ...\n",
      "2131  13731.0  14574.500000    13858.870117\n",
      "2132  10368.0  11102.778639    12295.188477\n",
      "2133  10697.0  10856.984417    12744.651367\n",
      "2134   5842.0   6613.303333     6514.083496\n",
      "2135  14848.0  11214.318833    10394.730469\n",
      "\n",
      "[2136 rows x 3 columns]\n"
     ]
    }
   ],
   "source": [
    "y_result=pd.concat([y_test,y_pred,y_pred1],axis=1)\n",
    "print(y_result)"
   ]
  },
  {
   "cell_type": "code",
   "execution_count": 99,
   "metadata": {},
   "outputs": [
    {
     "name": "stdout",
     "output_type": "stream",
     "text": [
      "r2 score= 0.8274612800986805\n"
     ]
    }
   ],
   "source": [
    "from sklearn .metrics import r2_score\n",
    "r2score=r2_score(y_test,y_pred1 )\n",
    "print(\"r2 score=\",r2score )"
   ]
  },
  {
   "cell_type": "code",
   "execution_count": null,
   "metadata": {
    "id": "rtBgDv-4yQ4_"
   },
   "outputs": [],
   "source": []
  },
  {
   "cell_type": "code",
   "execution_count": null,
   "metadata": {
    "id": "uolDoBuyyNS3"
   },
   "outputs": [],
   "source": []
  },
  {
   "cell_type": "code",
   "execution_count": null,
   "metadata": {
    "id": "08wJGM2ZyNQu"
   },
   "outputs": [],
   "source": []
  },
  {
   "cell_type": "code",
   "execution_count": null,
   "metadata": {
    "colab": {
     "base_uri": "https://localhost:8080/"
    },
    "id": "zSnHHLZQwaEp",
    "outputId": "05b7672a-06f6-4266-ff7c-ce1948f821b4"
   },
   "outputs": [],
   "source": []
  },
  {
   "cell_type": "code",
   "execution_count": null,
   "metadata": {
    "id": "H_IP02E1waHB"
   },
   "outputs": [],
   "source": []
  },
  {
   "cell_type": "code",
   "execution_count": null,
   "metadata": {
    "id": "8E25wy7fwaJo"
   },
   "outputs": [],
   "source": []
  },
  {
   "cell_type": "code",
   "execution_count": null,
   "metadata": {
    "id": "cXQPXG0ewaMM"
   },
   "outputs": [],
   "source": []
  },
  {
   "cell_type": "code",
   "execution_count": null,
   "metadata": {
    "id": "9WTcbHhnwaO0"
   },
   "outputs": [],
   "source": []
  }
 ],
 "metadata": {
  "colab": {
   "provenance": []
  },
  "kernelspec": {
   "display_name": "Python 3 (ipykernel)",
   "language": "python",
   "name": "python3"
  },
  "language_info": {
   "codemirror_mode": {
    "name": "ipython",
    "version": 3
   },
   "file_extension": ".py",
   "mimetype": "text/x-python",
   "name": "python",
   "nbconvert_exporter": "python",
   "pygments_lexer": "ipython3",
   "version": "3.10.6"
  }
 },
 "nbformat": 4,
 "nbformat_minor": 1
}
