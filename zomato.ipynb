{
  "cells": [
    {
      "cell_type": "code",
      "execution_count": 1,
      "metadata": {
        "colab": {
          "base_uri": "https://localhost:8080/"
        },
        "id": "lIYdn1woOS1n",
        "outputId": "ea3d1b55-aeed-4881-e7f1-09c73e2a3786"
      },
      "outputs": [
        {
          "output_type": "stream",
          "name": "stdout",
          "text": [
            "      Restaurant ID           Restaurant Name  Country Code              City  \\\n",
            "0           6317637          Le Petit Souffle           162       Makati City   \n",
            "1           6304287          Izakaya Kikufuji           162       Makati City   \n",
            "2           6300002    Heat - Edsa Shangri-La           162  Mandaluyong City   \n",
            "3           6318506                      Ooma           162  Mandaluyong City   \n",
            "4           6314302               Sambo Kojin           162  Mandaluyong City   \n",
            "...             ...                       ...           ...               ...   \n",
            "9546        5915730              NamlÛ± Gurme           208         ÛÁstanbul   \n",
            "9547        5908749             Ceviz AÛôacÛ±           208         ÛÁstanbul   \n",
            "9548        5915807                     Huqqa           208         ÛÁstanbul   \n",
            "9549        5916112              Aôôk Kahve           208         ÛÁstanbul   \n",
            "9550        5927402  Walter's Coffee Roastery           208         ÛÁstanbul   \n",
            "\n",
            "                                                Address  \\\n",
            "0     Third Floor, Century City Mall, Kalayaan Avenu...   \n",
            "1     Little Tokyo, 2277 Chino Roces Avenue, Legaspi...   \n",
            "2     Edsa Shangri-La, 1 Garden Way, Ortigas, Mandal...   \n",
            "3     Third Floor, Mega Fashion Hall, SM Megamall, O...   \n",
            "4     Third Floor, Mega Atrium, SM Megamall, Ortigas...   \n",
            "...                                                 ...   \n",
            "9546  Kemankeô Karamustafa Paôa Mahallesi, RÛ±htÛ±...   \n",
            "9547  Koôuyolu Mahallesi, Muhittin íìstí_ndaÛô Cadd...   \n",
            "9548  Kuruí_eôme Mahallesi, Muallim Naci Caddesi, N...   \n",
            "9549  Kuruí_eôme Mahallesi, Muallim Naci Caddesi, N...   \n",
            "9550  CafeaÛôa Mahallesi, BademaltÛ± Sokak, No 21/B,...   \n",
            "\n",
            "                                        Locality  \\\n",
            "0      Century City Mall, Poblacion, Makati City   \n",
            "1     Little Tokyo, Legaspi Village, Makati City   \n",
            "2     Edsa Shangri-La, Ortigas, Mandaluyong City   \n",
            "3         SM Megamall, Ortigas, Mandaluyong City   \n",
            "4         SM Megamall, Ortigas, Mandaluyong City   \n",
            "...                                          ...   \n",
            "9546                                    Karakí_y   \n",
            "9547                                   Koôuyolu   \n",
            "9548                                 Kuruí_eôme   \n",
            "9549                                 Kuruí_eôme   \n",
            "9550                                        Moda   \n",
            "\n",
            "                                       Locality Verbose   Longitude  \\\n",
            "0     Century City Mall, Poblacion, Makati City, Mak...  121.027535   \n",
            "1     Little Tokyo, Legaspi Village, Makati City, Ma...  121.014101   \n",
            "2     Edsa Shangri-La, Ortigas, Mandaluyong City, Ma...  121.056831   \n",
            "3     SM Megamall, Ortigas, Mandaluyong City, Mandal...  121.056475   \n",
            "4     SM Megamall, Ortigas, Mandaluyong City, Mandal...  121.057508   \n",
            "...                                                 ...         ...   \n",
            "9546                                Karakí_y, ÛÁstanbul   28.977392   \n",
            "9547                               Koôuyolu, ÛÁstanbul   29.041297   \n",
            "9548                             Kuruí_eôme, ÛÁstanbul   29.034640   \n",
            "9549                             Kuruí_eôme, ÛÁstanbul   29.036019   \n",
            "9550                                    Moda, ÛÁstanbul   29.026016   \n",
            "\n",
            "       Latitude                          Cuisines  ...          Currency  \\\n",
            "0     14.565443        French, Japanese, Desserts  ...  Botswana Pula(P)   \n",
            "1     14.553708                          Japanese  ...  Botswana Pula(P)   \n",
            "2     14.581404  Seafood, Asian, Filipino, Indian  ...  Botswana Pula(P)   \n",
            "3     14.585318                   Japanese, Sushi  ...  Botswana Pula(P)   \n",
            "4     14.584450                  Japanese, Korean  ...  Botswana Pula(P)   \n",
            "...         ...                               ...  ...               ...   \n",
            "9546  41.022793                           Turkish  ...  Turkish Lira(TL)   \n",
            "9547  41.009847   World Cuisine, Patisserie, Cafe  ...  Turkish Lira(TL)   \n",
            "9548  41.055817            Italian, World Cuisine  ...  Turkish Lira(TL)   \n",
            "9549  41.057979                   Restaurant Cafe  ...  Turkish Lira(TL)   \n",
            "9550  40.984776                              Cafe  ...  Turkish Lira(TL)   \n",
            "\n",
            "     Has Table booking Has Online delivery Is delivering now  \\\n",
            "0                  Yes                  No                No   \n",
            "1                  Yes                  No                No   \n",
            "2                  Yes                  No                No   \n",
            "3                   No                  No                No   \n",
            "4                  Yes                  No                No   \n",
            "...                ...                 ...               ...   \n",
            "9546                No                  No                No   \n",
            "9547                No                  No                No   \n",
            "9548                No                  No                No   \n",
            "9549                No                  No                No   \n",
            "9550                No                  No                No   \n",
            "\n",
            "     Switch to order menu Price range  Aggregate rating  Rating color  \\\n",
            "0                      No           3               4.8    Dark Green   \n",
            "1                      No           3               4.5    Dark Green   \n",
            "2                      No           4               4.4         Green   \n",
            "3                      No           4               4.9    Dark Green   \n",
            "4                      No           4               4.8    Dark Green   \n",
            "...                   ...         ...               ...           ...   \n",
            "9546                   No           3               4.1         Green   \n",
            "9547                   No           3               4.2         Green   \n",
            "9548                   No           4               3.7        Yellow   \n",
            "9549                   No           4               4.0         Green   \n",
            "9550                   No           2               4.0         Green   \n",
            "\n",
            "     Rating text Votes  \n",
            "0      Excellent   314  \n",
            "1      Excellent   591  \n",
            "2      Very Good   270  \n",
            "3      Excellent   365  \n",
            "4      Excellent   229  \n",
            "...          ...   ...  \n",
            "9546   Very Good   788  \n",
            "9547   Very Good  1034  \n",
            "9548        Good   661  \n",
            "9549   Very Good   901  \n",
            "9550   Very Good   591  \n",
            "\n",
            "[9551 rows x 21 columns]\n"
          ]
        }
      ],
      "source": [
        "import pandas as pd #used for reading csv as dataframe and performing operations on dataframe\n",
        "import numpy as np #library used for numerical operations in python\n",
        "import matplotlib.pyplot as plt #used for data visulaisation and graph plotting\n",
        "import seaborn as sns #Seaborn is a data visualization library based on matplotlib\n",
        "\n",
        "#importing the zomato dataset\n",
        "df=pd.read_csv(r\"/content/zomato.csv\",encoding=\"latin-1\") \n",
        "#printing the dataset\n",
        "print(df)"
      ]
    },
    {
      "cell_type": "code",
      "source": [
        "#printing the shape of the dataset\n",
        "print(df.shape)"
      ],
      "metadata": {
        "id": "zj93tfDIE2bx",
        "outputId": "ea137da0-eb14-4236-8110-a101b4ccab3b",
        "colab": {
          "base_uri": "https://localhost:8080/"
        }
      },
      "execution_count": 2,
      "outputs": [
        {
          "output_type": "stream",
          "name": "stdout",
          "text": [
            "(9551, 21)\n"
          ]
        }
      ]
    },
    {
      "cell_type": "code",
      "source": [
        "#printing all the columns in the dataset\n",
        "print(df.columns)"
      ],
      "metadata": {
        "id": "PqQAVrZNE31y",
        "outputId": "68b348db-5d22-4c92-d7ca-5167e185c91e",
        "colab": {
          "base_uri": "https://localhost:8080/"
        }
      },
      "execution_count": 3,
      "outputs": [
        {
          "output_type": "stream",
          "name": "stdout",
          "text": [
            "Index(['Restaurant ID', 'Restaurant Name', 'Country Code', 'City', 'Address',\n",
            "       'Locality', 'Locality Verbose', 'Longitude', 'Latitude', 'Cuisines',\n",
            "       'Average Cost for two', 'Currency', 'Has Table booking',\n",
            "       'Has Online delivery', 'Is delivering now', 'Switch to order menu',\n",
            "       'Price range', 'Aggregate rating', 'Rating color', 'Rating text',\n",
            "       'Votes'],\n",
            "      dtype='object')\n"
          ]
        }
      ]
    },
    {
      "cell_type": "code",
      "source": [
        "#printing the information of the dataset\n",
        "print(df.info())"
      ],
      "metadata": {
        "id": "1y71uAjtE5OT",
        "outputId": "78c474c2-4fdb-4c3a-bf27-23d12c87ced3",
        "colab": {
          "base_uri": "https://localhost:8080/"
        }
      },
      "execution_count": 4,
      "outputs": [
        {
          "output_type": "stream",
          "name": "stdout",
          "text": [
            "<class 'pandas.core.frame.DataFrame'>\n",
            "RangeIndex: 9551 entries, 0 to 9550\n",
            "Data columns (total 21 columns):\n",
            " #   Column                Non-Null Count  Dtype  \n",
            "---  ------                --------------  -----  \n",
            " 0   Restaurant ID         9551 non-null   int64  \n",
            " 1   Restaurant Name       9551 non-null   object \n",
            " 2   Country Code          9551 non-null   int64  \n",
            " 3   City                  9551 non-null   object \n",
            " 4   Address               9551 non-null   object \n",
            " 5   Locality              9551 non-null   object \n",
            " 6   Locality Verbose      9551 non-null   object \n",
            " 7   Longitude             9551 non-null   float64\n",
            " 8   Latitude              9551 non-null   float64\n",
            " 9   Cuisines              9542 non-null   object \n",
            " 10  Average Cost for two  9551 non-null   int64  \n",
            " 11  Currency              9551 non-null   object \n",
            " 12  Has Table booking     9551 non-null   object \n",
            " 13  Has Online delivery   9551 non-null   object \n",
            " 14  Is delivering now     9551 non-null   object \n",
            " 15  Switch to order menu  9551 non-null   object \n",
            " 16  Price range           9551 non-null   int64  \n",
            " 17  Aggregate rating      9551 non-null   float64\n",
            " 18  Rating color          9551 non-null   object \n",
            " 19  Rating text           9551 non-null   object \n",
            " 20  Votes                 9551 non-null   int64  \n",
            "dtypes: float64(3), int64(5), object(13)\n",
            "memory usage: 1.5+ MB\n",
            "None\n"
          ]
        }
      ]
    },
    {
      "cell_type": "code",
      "source": [
        "#print the description of the dataset\n",
        "#all the neumerical columns will show the mean,max,percentile value\n",
        "print(df.describe())"
      ],
      "metadata": {
        "id": "bivs6E09E6Ms",
        "outputId": "b3da961f-e6f3-45c5-ebe3-cc946d4b4875",
        "colab": {
          "base_uri": "https://localhost:8080/"
        }
      },
      "execution_count": 5,
      "outputs": [
        {
          "output_type": "stream",
          "name": "stdout",
          "text": [
            "       Restaurant ID  Country Code    Longitude     Latitude  \\\n",
            "count   9.551000e+03   9551.000000  9551.000000  9551.000000   \n",
            "mean    9.051128e+06     18.365616    64.126574    25.854381   \n",
            "std     8.791521e+06     56.750546    41.467058    11.007935   \n",
            "min     5.300000e+01      1.000000  -157.948486   -41.330428   \n",
            "25%     3.019625e+05      1.000000    77.081343    28.478713   \n",
            "50%     6.004089e+06      1.000000    77.191964    28.570469   \n",
            "75%     1.835229e+07      1.000000    77.282006    28.642758   \n",
            "max     1.850065e+07    216.000000   174.832089    55.976980   \n",
            "\n",
            "       Average Cost for two  Price range  Aggregate rating         Votes  \n",
            "count           9551.000000  9551.000000       9551.000000   9551.000000  \n",
            "mean            1199.210763     1.804837          2.666370    156.909748  \n",
            "std            16121.183073     0.905609          1.516378    430.169145  \n",
            "min                0.000000     1.000000          0.000000      0.000000  \n",
            "25%              250.000000     1.000000          2.500000      5.000000  \n",
            "50%              400.000000     2.000000          3.200000     31.000000  \n",
            "75%              700.000000     2.000000          3.700000    131.000000  \n",
            "max           800000.000000     4.000000          4.900000  10934.000000  \n"
          ]
        }
      ]
    },
    {
      "cell_type": "code",
      "source": [
        "#printing the null columns with null values from the columns\n",
        "print(df.isnull().sum())\n",
        "# as there are null values in \"Cuisines\" column"
      ],
      "metadata": {
        "id": "mCPWAhs5E7xN",
        "outputId": "8b9228a0-5989-4635-92f2-8b533cbb7d9a",
        "colab": {
          "base_uri": "https://localhost:8080/"
        }
      },
      "execution_count": 6,
      "outputs": [
        {
          "output_type": "stream",
          "name": "stdout",
          "text": [
            "Restaurant ID           0\n",
            "Restaurant Name         0\n",
            "Country Code            0\n",
            "City                    0\n",
            "Address                 0\n",
            "Locality                0\n",
            "Locality Verbose        0\n",
            "Longitude               0\n",
            "Latitude                0\n",
            "Cuisines                9\n",
            "Average Cost for two    0\n",
            "Currency                0\n",
            "Has Table booking       0\n",
            "Has Online delivery     0\n",
            "Is delivering now       0\n",
            "Switch to order menu    0\n",
            "Price range             0\n",
            "Aggregate rating        0\n",
            "Rating color            0\n",
            "Rating text             0\n",
            "Votes                   0\n",
            "dtype: int64\n"
          ]
        }
      ]
    },
    {
      "cell_type": "code",
      "source": [
        "# we have another datasheet in which country with code\n",
        "df_country=pd.read_csv(r\"/content/Country-Code.csv\")\n",
        "print(df_country)"
      ],
      "metadata": {
        "id": "PEQ0mx3REZ3O",
        "outputId": "357a3fcd-1999-496d-fee7-fe76a2f1cdc0",
        "colab": {
          "base_uri": "https://localhost:8080/"
        }
      },
      "execution_count": 7,
      "outputs": [
        {
          "output_type": "stream",
          "name": "stdout",
          "text": [
            "    Country Code         Country\n",
            "0              1           India\n",
            "1             14       Australia\n",
            "2             30          Brazil\n",
            "3             37          Canada\n",
            "4             94       Indonesia\n",
            "5            148     New Zealand\n",
            "6            162     Phillipines\n",
            "7            166           Qatar\n",
            "8            184       Singapore\n",
            "9            189    South Africa\n",
            "10           191       Sri Lanka\n",
            "11           208          Turkey\n",
            "12           214             UAE\n",
            "13           215  United Kingdom\n",
            "14           216   United States\n"
          ]
        }
      ]
    },
    {
      "cell_type": "code",
      "source": [
        "#to print top 5 entries from file\n",
        "print(df_country.head())"
      ],
      "metadata": {
        "id": "7pylZ8WIE_WS",
        "outputId": "da4f0714-3129-4c2c-e9f0-bfc1b2871087",
        "colab": {
          "base_uri": "https://localhost:8080/"
        }
      },
      "execution_count": 8,
      "outputs": [
        {
          "output_type": "stream",
          "name": "stdout",
          "text": [
            "   Country Code    Country\n",
            "0             1      India\n",
            "1            14  Australia\n",
            "2            30     Brazil\n",
            "3            37     Canada\n",
            "4            94  Indonesia\n"
          ]
        }
      ]
    },
    {
      "cell_type": "code",
      "source": [
        "#combining the two file\n",
        "final_df=pd.merge(df,df_country, on=\"Country Code\", how=\"left\") #we are performing left join\n",
        "print(final_df.head())"
      ],
      "metadata": {
        "id": "mvoU1q7MFCBp",
        "outputId": "b1526a8f-4f5a-441d-aecf-b136ab182e97",
        "colab": {
          "base_uri": "https://localhost:8080/"
        }
      },
      "execution_count": 9,
      "outputs": [
        {
          "output_type": "stream",
          "name": "stdout",
          "text": [
            "   Restaurant ID         Restaurant Name  Country Code              City  \\\n",
            "0        6317637        Le Petit Souffle           162       Makati City   \n",
            "1        6304287        Izakaya Kikufuji           162       Makati City   \n",
            "2        6300002  Heat - Edsa Shangri-La           162  Mandaluyong City   \n",
            "3        6318506                    Ooma           162  Mandaluyong City   \n",
            "4        6314302             Sambo Kojin           162  Mandaluyong City   \n",
            "\n",
            "                                             Address  \\\n",
            "0  Third Floor, Century City Mall, Kalayaan Avenu...   \n",
            "1  Little Tokyo, 2277 Chino Roces Avenue, Legaspi...   \n",
            "2  Edsa Shangri-La, 1 Garden Way, Ortigas, Mandal...   \n",
            "3  Third Floor, Mega Fashion Hall, SM Megamall, O...   \n",
            "4  Third Floor, Mega Atrium, SM Megamall, Ortigas...   \n",
            "\n",
            "                                     Locality  \\\n",
            "0   Century City Mall, Poblacion, Makati City   \n",
            "1  Little Tokyo, Legaspi Village, Makati City   \n",
            "2  Edsa Shangri-La, Ortigas, Mandaluyong City   \n",
            "3      SM Megamall, Ortigas, Mandaluyong City   \n",
            "4      SM Megamall, Ortigas, Mandaluyong City   \n",
            "\n",
            "                                    Locality Verbose   Longitude   Latitude  \\\n",
            "0  Century City Mall, Poblacion, Makati City, Mak...  121.027535  14.565443   \n",
            "1  Little Tokyo, Legaspi Village, Makati City, Ma...  121.014101  14.553708   \n",
            "2  Edsa Shangri-La, Ortigas, Mandaluyong City, Ma...  121.056831  14.581404   \n",
            "3  SM Megamall, Ortigas, Mandaluyong City, Mandal...  121.056475  14.585318   \n",
            "4  SM Megamall, Ortigas, Mandaluyong City, Mandal...  121.057508  14.584450   \n",
            "\n",
            "                           Cuisines  ...  Has Table booking  \\\n",
            "0        French, Japanese, Desserts  ...                Yes   \n",
            "1                          Japanese  ...                Yes   \n",
            "2  Seafood, Asian, Filipino, Indian  ...                Yes   \n",
            "3                   Japanese, Sushi  ...                 No   \n",
            "4                  Japanese, Korean  ...                Yes   \n",
            "\n",
            "  Has Online delivery Is delivering now Switch to order menu Price range  \\\n",
            "0                  No                No                   No           3   \n",
            "1                  No                No                   No           3   \n",
            "2                  No                No                   No           4   \n",
            "3                  No                No                   No           4   \n",
            "4                  No                No                   No           4   \n",
            "\n",
            "  Aggregate rating  Rating color  Rating text Votes      Country  \n",
            "0              4.8    Dark Green    Excellent   314  Phillipines  \n",
            "1              4.5    Dark Green    Excellent   591  Phillipines  \n",
            "2              4.4         Green    Very Good   270  Phillipines  \n",
            "3              4.9    Dark Green    Excellent   365  Phillipines  \n",
            "4              4.8    Dark Green    Excellent   229  Phillipines  \n",
            "\n",
            "[5 rows x 22 columns]\n"
          ]
        }
      ]
    },
    {
      "cell_type": "code",
      "source": [
        "#now we will count which country has how many orders\n",
        "country_order=final_df[\"Country\"].value_counts()\n",
        "#printing the top 5 country with order\n",
        "print(country_order.head())"
      ],
      "metadata": {
        "id": "76j7SbXPFFwN",
        "outputId": "d1a10fc3-c0ec-4489-8d91-4df5de5332a8",
        "colab": {
          "base_uri": "https://localhost:8080/"
        }
      },
      "execution_count": 10,
      "outputs": [
        {
          "output_type": "stream",
          "name": "stdout",
          "text": [
            "India             8652\n",
            "United States      434\n",
            "United Kingdom      80\n",
            "Brazil              60\n",
            "UAE                 60\n",
            "Name: Country, dtype: int64\n"
          ]
        }
      ]
    },
    {
      "cell_type": "code",
      "source": [
        "#from above we can see that India has highest number of order for Zomato\n",
        "#plotting the pie chart of top 3 country with order value\n",
        "\n",
        "plt.title (\"pie chart showing top 3 country\")\n",
        "scat=np.array([0.2,0,0])\n",
        "plt.pie(country_order[:3],labels=country_order.index[:3],autopct= \"%1.2f%%\",explode= scat,shadow=True)\n",
        "plt.legend(country_order.index[:3])"
      ],
      "metadata": {
        "id": "lSxZCdpkF2aK",
        "outputId": "18d5ead5-a272-455e-bdc8-d360d35d105b",
        "colab": {
          "base_uri": "https://localhost:8080/",
          "height": 281
        }
      },
      "execution_count": 11,
      "outputs": [
        {
          "output_type": "execute_result",
          "data": {
            "text/plain": [
              "<matplotlib.legend.Legend at 0x7f6f4a9f8940>"
            ]
          },
          "metadata": {},
          "execution_count": 11
        },
        {
          "output_type": "display_data",
          "data": {
            "text/plain": [
              "<Figure size 432x288 with 1 Axes>"
            ],
            "image/png": "[encoded data removed]"
          },
          "metadata": {}
        }
      ]
    },
    {
      "cell_type": "code",
      "source": [
        "#plotting bar graph for number of orders\n",
        "plt.title (\"bargraph showing top 5 country order \")\n",
        "color=np.array([\"red\",\"orange\",\"yellow\",\"green\",\"pink\"])\n",
        "plt.bar(country_order.index[:5], country_order[:5],color=color )\n",
        "ax = plt.gca()\n",
        "ax.tick_params(axis='x', labelrotation = 90)\n",
        "plt.show()"
      ],
      "metadata": {
        "id": "WRMsf3JtFJJB",
        "outputId": "b80b3f6e-6396-4273-fb4f-c6c28f9ab774",
        "colab": {
          "base_uri": "https://localhost:8080/",
          "height": 352
        }
      },
      "execution_count": 12,
      "outputs": [
        {
          "output_type": "display_data",
          "data": {
            "text/plain": [
              "<Figure size 432x288 with 1 Axes>"
            ],
            "image/png": "[encoded data removed]"
          },
          "metadata": {
            "needs_background": "light"
          }
        }
      ]
    },
    {
      "cell_type": "code",
      "source": [
        "#creatings another dataframe so that we can compare that for other countries\n",
        "ratings=final_df.groupby([\"Aggregate rating\",\"Rating color\",\"Rating text\"]).size().reset_index().rename(columns={0:\"values\"})\n",
        "print(ratings)"
      ],
      "metadata": {
        "id": "omJklpB7FNGA",
        "outputId": "57bb30cd-3ba1-4b31-e7f4-ade1d3eedd24",
        "colab": {
          "base_uri": "https://localhost:8080/"
        }
      },
      "execution_count": 13,
      "outputs": [
        {
          "output_type": "stream",
          "name": "stdout",
          "text": [
            "    Aggregate rating Rating color Rating text  values\n",
            "0                0.0        White   Not rated    2148\n",
            "1                1.8          Red        Poor       1\n",
            "2                1.9          Red        Poor       2\n",
            "3                2.0          Red        Poor       7\n",
            "4                2.1          Red        Poor      15\n",
            "5                2.2          Red        Poor      27\n",
            "6                2.3          Red        Poor      47\n",
            "7                2.4          Red        Poor      87\n",
            "8                2.5       Orange     Average     110\n",
            "9                2.6       Orange     Average     191\n",
            "10               2.7       Orange     Average     250\n",
            "11               2.8       Orange     Average     315\n",
            "12               2.9       Orange     Average     381\n",
            "13               3.0       Orange     Average     468\n",
            "14               3.1       Orange     Average     519\n",
            "15               3.2       Orange     Average     522\n",
            "16               3.3       Orange     Average     483\n",
            "17               3.4       Orange     Average     498\n",
            "18               3.5       Yellow        Good     480\n",
            "19               3.6       Yellow        Good     458\n",
            "20               3.7       Yellow        Good     427\n",
            "21               3.8       Yellow        Good     400\n",
            "22               3.9       Yellow        Good     335\n",
            "23               4.0        Green   Very Good     266\n",
            "24               4.1        Green   Very Good     274\n",
            "25               4.2        Green   Very Good     221\n",
            "26               4.3        Green   Very Good     174\n",
            "27               4.4        Green   Very Good     144\n",
            "28               4.5   Dark Green   Excellent      95\n",
            "29               4.6   Dark Green   Excellent      78\n",
            "30               4.7   Dark Green   Excellent      42\n",
            "31               4.8   Dark Green   Excellent      25\n",
            "32               4.9   Dark Green   Excellent      61\n"
          ]
        }
      ]
    },
    {
      "cell_type": "code",
      "source": [
        "sns.barplot(x=\"Aggregate rating\",y=\"values\",data=ratings)\n",
        "ax = plt.gca()\n",
        "ax.tick_params(axis='x', labelrotation = 90)\n",
        "plt.show()"
      ],
      "metadata": {
        "id": "yiSrZPXTFPZU",
        "outputId": "e11cd570-8248-4e8e-e377-255e8df4fcb7",
        "colab": {
          "base_uri": "https://localhost:8080/",
          "height": 285
        }
      },
      "execution_count": 14,
      "outputs": [
        {
          "output_type": "display_data",
          "data": {
            "text/plain": [
              "<Figure size 432x288 with 1 Axes>"
            ],
            "image/png": "[encoded data removed]"
          },
          "metadata": {
            "needs_background": "light"
          }
        }
      ]
    },
    {
      "cell_type": "code",
      "source": [
        "sns.barplot(x=\"Aggregate rating\",y=\"values\",hue=\"Rating color\",data=ratings,palette=[\"white\",\"red\",\"orange\",\"yellow\",\"green\",\"green\"])\n",
        "ax = plt.gca()\n",
        "ax.tick_params(axis='x', labelrotation = 90)\n",
        "plt.show()"
      ],
      "metadata": {
        "id": "istHC7xHFQZR",
        "outputId": "6c1ac372-c67a-4b4e-da36-b3abc975900a",
        "colab": {
          "base_uri": "https://localhost:8080/",
          "height": 285
        }
      },
      "execution_count": 15,
      "outputs": [
        {
          "output_type": "display_data",
          "data": {
            "text/plain": [
              "<Figure size 432x288 with 1 Axes>"
            ],
            "image/png": "[encoded data removed]"
          },
          "metadata": {
            "needs_background": "light"
          }
        }
      ]
    },
    {
      "cell_type": "code",
      "source": [
        "sns.countplot (x=\"Rating color\",data=ratings,palette=[\"white\",\"red\",\"orange\",\"yellow\",\"green\",\"green\"])\n",
        "plt.show()"
      ],
      "metadata": {
        "id": "FJJ_U3z5FRwH",
        "outputId": "3d147a29-66ff-477c-822a-69c9d5c6f55e",
        "colab": {
          "base_uri": "https://localhost:8080/",
          "height": 279
        }
      },
      "execution_count": 16,
      "outputs": [
        {
          "output_type": "display_data",
          "data": {
            "text/plain": [
              "<Figure size 432x288 with 1 Axes>"
            ],
            "image/png": "[encoded data removed]"
          },
          "metadata": {
            "needs_background": "light"
          }
        }
      ]
    },
    {
      "cell_type": "code",
      "source": [
        "#analyzing which country has given how many 0 ratings\n",
        "zero_rat=final_df[final_df[\"Rating color\"]==\"White\"].groupby(\"Country\").size().reset_index()\n",
        "print(zero_rat)"
      ],
      "metadata": {
        "id": "oqAtj-JvFTDy",
        "outputId": "97455067-1527-4417-92df-5750ff1721ad",
        "colab": {
          "base_uri": "https://localhost:8080/"
        }
      },
      "execution_count": 17,
      "outputs": [
        {
          "output_type": "stream",
          "name": "stdout",
          "text": [
            "          Country     0\n",
            "0          Brazil     5\n",
            "1           India  2139\n",
            "2  United Kingdom     1\n",
            "3   United States     3\n"
          ]
        }
      ]
    },
    {
      "cell_type": "code",
      "source": [
        "#which country use which currency for payment\n",
        "curr_count=final_df[[\"Country\",\"Currency\"]].groupby ([\"Country\",\"Currency\"]).size().reset_index()\n",
        "print(curr_count)"
      ],
      "metadata": {
        "id": "i9a7sqjiFUo2",
        "outputId": "ef521450-f803-486f-9390-d1d6d7d3b939",
        "colab": {
          "base_uri": "https://localhost:8080/"
        }
      },
      "execution_count": 18,
      "outputs": [
        {
          "output_type": "stream",
          "name": "stdout",
          "text": [
            "           Country                Currency     0\n",
            "0        Australia               Dollar($)    24\n",
            "1           Brazil      Brazilian Real(R$)    60\n",
            "2           Canada               Dollar($)     4\n",
            "3            India      Indian Rupees(Rs.)  8652\n",
            "4        Indonesia  Indonesian Rupiah(IDR)    21\n",
            "5      New Zealand           NewZealand($)    40\n",
            "6      Phillipines        Botswana Pula(P)    22\n",
            "7            Qatar         Qatari Rial(QR)    20\n",
            "8        Singapore               Dollar($)    20\n",
            "9     South Africa                 Rand(R)    60\n",
            "10       Sri Lanka   Sri Lankan Rupee(LKR)    20\n",
            "11          Turkey        Turkish Lira(TL)    34\n",
            "12             UAE      Emirati Diram(AED)    60\n",
            "13  United Kingdom              Pounds(£)    80\n",
            "14   United States               Dollar($)   434\n"
          ]
        }
      ]
    },
    {
      "cell_type": "code",
      "source": [
        "#which country has online delivery\n",
        "online=final_df[[\"Has Online delivery\",\"Country\"]].groupby([\"Has Online delivery\",\"Country\"]).size().reset_index()\n",
        "print(online)"
      ],
      "metadata": {
        "id": "j8Tyl3gAFXDC",
        "outputId": "0d6162c9-d36d-4966-e194-403838fdc28a",
        "colab": {
          "base_uri": "https://localhost:8080/"
        }
      },
      "execution_count": 19,
      "outputs": [
        {
          "output_type": "stream",
          "name": "stdout",
          "text": [
            "   Has Online delivery         Country     0\n",
            "0                   No       Australia    24\n",
            "1                   No          Brazil    60\n",
            "2                   No          Canada     4\n",
            "3                   No           India  6229\n",
            "4                   No       Indonesia    21\n",
            "5                   No     New Zealand    40\n",
            "6                   No     Phillipines    22\n",
            "7                   No           Qatar    20\n",
            "8                   No       Singapore    20\n",
            "9                   No    South Africa    60\n",
            "10                  No       Sri Lanka    20\n",
            "11                  No          Turkey    34\n",
            "12                  No             UAE    32\n",
            "13                  No  United Kingdom    80\n",
            "14                  No   United States   434\n",
            "15                 Yes           India  2423\n",
            "16                 Yes             UAE    28\n"
          ]
        }
      ]
    }
  ],
  "metadata": {
    "colab": {
      "provenance": []
    },
    "kernelspec": {
      "display_name": "Python 3",
      "name": "python3"
    }
  },
  "nbformat": 4,
  "nbformat_minor": 0
}