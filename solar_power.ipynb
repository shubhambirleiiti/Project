{
  "nbformat": 4,
  "nbformat_minor": 0,
  "metadata": {
    "colab": {
      "provenance": []
    },
    "kernelspec": {
      "name": "python3",
      "display_name": "Python 3"
    },
    "language_info": {
      "name": "python"
    }
  },
  "cells": [
    {
      "cell_type": "code",
      "execution_count": 1,
      "metadata": {
        "colab": {
          "base_uri": "https://localhost:8080/"
        },
        "id": "8QJbEXYTODP_",
        "outputId": "9b8c2e21-295b-4d52-9683-828ef0fb6152"
      },
      "outputs": [
        {
          "output_type": "stream",
          "name": "stdout",
          "text": [
            "      temperature_2_m_above_gnd  relative_humidity_2_m_above_gnd  \\\n",
            "0                          2.17                               31   \n",
            "1                          2.31                               27   \n",
            "2                          3.65                               33   \n",
            "3                          5.82                               30   \n",
            "4                          7.73                               27   \n",
            "...                         ...                              ...   \n",
            "4208                       8.69                               66   \n",
            "4209                       7.57                               90   \n",
            "4210                       7.27                               90   \n",
            "4211                       8.25                               81   \n",
            "4212                       8.00                               80   \n",
            "\n",
            "      mean_sea_level_pressure_MSL  total_precipitation_sfc  \\\n",
            "0                          1035.0                      0.0   \n",
            "1                          1035.1                      0.0   \n",
            "2                          1035.4                      0.0   \n",
            "3                          1035.4                      0.0   \n",
            "4                          1034.4                      0.0   \n",
            "...                           ...                      ...   \n",
            "4208                       1025.1                      0.0   \n",
            "4209                       1026.1                      0.0   \n",
            "4210                       1026.3                      0.1   \n",
            "4211                       1025.5                      0.0   \n",
            "4212                       1025.3                      0.0   \n",
            "\n",
            "      snowfall_amount_sfc  total_cloud_cover_sfc  \\\n",
            "0                     0.0                    0.0   \n",
            "1                     0.0                    0.0   \n",
            "2                     0.0                    0.0   \n",
            "3                     0.0                    0.0   \n",
            "4                     0.0                    0.0   \n",
            "...                   ...                    ...   \n",
            "4208                  0.0                  100.0   \n",
            "4209                  0.0                  100.0   \n",
            "4210                  0.0                  100.0   \n",
            "4211                  0.0                  100.0   \n",
            "4212                  0.0                  100.0   \n",
            "\n",
            "      high_cloud_cover_high_cld_lay  medium_cloud_cover_mid_cld_lay  \\\n",
            "0                                 0                               0   \n",
            "1                                 0                               0   \n",
            "2                                 0                               0   \n",
            "3                                 0                               0   \n",
            "4                                 0                               0   \n",
            "...                             ...                             ...   \n",
            "4208                            100                             100   \n",
            "4209                             79                             100   \n",
            "4210                             73                             100   \n",
            "4211                             74                              66   \n",
            "4212                            100                             100   \n",
            "\n",
            "      low_cloud_cover_low_cld_lay  shortwave_radiation_backwards_sfc  ...  \\\n",
            "0                               0                               0.00  ...   \n",
            "1                               0                               1.78  ...   \n",
            "2                               0                             108.58  ...   \n",
            "3                               0                             258.10  ...   \n",
            "4                               0                             375.58  ...   \n",
            "...                           ...                                ...  ...   \n",
            "4208                          100                             257.21  ...   \n",
            "4209                          100                             210.04  ...   \n",
            "4210                          100                             113.92  ...   \n",
            "4211                          100                             186.90  ...   \n",
            "4212                          100                             172.66  ...   \n",
            "\n",
            "      wind_direction_10_m_above_gnd  wind_speed_80_m_above_gnd  \\\n",
            "0                            312.71                       9.36   \n",
            "1                            294.78                       5.99   \n",
            "2                            270.00                       3.89   \n",
            "3                            323.13                       3.55   \n",
            "4                             10.01                       6.76   \n",
            "...                             ...                        ...   \n",
            "4208                         285.42                      25.50   \n",
            "4209                           6.91                      13.00   \n",
            "4210                           2.29                       8.71   \n",
            "4211                          11.31                       6.29   \n",
            "4212                          12.72                      12.07   \n",
            "\n",
            "      wind_direction_80_m_above_gnd  wind_speed_900_mb  wind_direction_900_mb  \\\n",
            "0                             22.62               6.62                 337.62   \n",
            "1                             32.74               4.61                 321.34   \n",
            "2                             56.31               3.76                 286.70   \n",
            "3                             23.96               3.08                 339.44   \n",
            "4                             25.20               6.62                  22.38   \n",
            "...                             ...                ...                    ...   \n",
            "4208                         283.06              24.01                 282.99   \n",
            "4209                           4.76              11.61                   7.13   \n",
            "4210                         352.87               7.95                 354.81   \n",
            "4211                          13.24               5.94                  14.04   \n",
            "4212                          17.35              11.38                  18.43   \n",
            "\n",
            "      wind_gust_10_m_above_gnd  angle_of_incidence     zenith    azimuth  \\\n",
            "0                        24.48           58.753108  83.237322  128.33543   \n",
            "1                        21.96           45.408585  75.143041  139.65530   \n",
            "2                        14.04           32.848282  68.820648  152.53769   \n",
            "3                        19.80           22.699288  64.883536  166.90159   \n",
            "4                        16.56           19.199908  63.795208  182.13526   \n",
            "...                        ...                 ...        ...        ...   \n",
            "4208                     25.20           22.700907  64.952098  167.06794   \n",
            "4209                     10.44           19.307487  63.895118  182.28247   \n",
            "4210                     22.32           25.249506  65.827032  197.33868   \n",
            "4211                     15.48           36.361161  70.496313  211.30027   \n",
            "4212                     16.20           48.452849  76.919574  223.04931   \n",
            "\n",
            "      generated_power_kw  \n",
            "0             454.100950  \n",
            "1            1411.999400  \n",
            "2            2214.849300  \n",
            "3            2527.609200  \n",
            "4            2640.203400  \n",
            "...                  ...  \n",
            "4208          173.410560  \n",
            "4209          403.792220  \n",
            "4210          158.367780  \n",
            "4211          126.953060  \n",
            "4212           20.055031  \n",
            "\n",
            "[4213 rows x 21 columns]\n",
            "<class 'pandas.core.frame.DataFrame'>\n",
            "RangeIndex: 4213 entries, 0 to 4212\n",
            "Data columns (total 21 columns):\n",
            " #   Column                             Non-Null Count  Dtype  \n",
            "---  ------                             --------------  -----  \n",
            " 0   temperature_2_m_above_gnd          4213 non-null   float64\n",
            " 1   relative_humidity_2_m_above_gnd    4213 non-null   int64  \n",
            " 2   mean_sea_level_pressure_MSL        4213 non-null   float64\n",
            " 3   total_precipitation_sfc            4213 non-null   float64\n",
            " 4   snowfall_amount_sfc                4213 non-null   float64\n",
            " 5   total_cloud_cover_sfc              4213 non-null   float64\n",
            " 6   high_cloud_cover_high_cld_lay      4213 non-null   int64  \n",
            " 7   medium_cloud_cover_mid_cld_lay     4213 non-null   int64  \n",
            " 8   low_cloud_cover_low_cld_lay        4213 non-null   int64  \n",
            " 9   shortwave_radiation_backwards_sfc  4213 non-null   float64\n",
            " 10  wind_speed_10_m_above_gnd          4213 non-null   float64\n",
            " 11  wind_direction_10_m_above_gnd      4213 non-null   float64\n",
            " 12  wind_speed_80_m_above_gnd          4213 non-null   float64\n",
            " 13  wind_direction_80_m_above_gnd      4213 non-null   float64\n",
            " 14  wind_speed_900_mb                  4213 non-null   float64\n",
            " 15  wind_direction_900_mb              4213 non-null   float64\n",
            " 16  wind_gust_10_m_above_gnd           4213 non-null   float64\n",
            " 17  angle_of_incidence                 4213 non-null   float64\n",
            " 18  zenith                             4213 non-null   float64\n",
            " 19  azimuth                            4213 non-null   float64\n",
            " 20  generated_power_kw                 4213 non-null   float64\n",
            "dtypes: float64(17), int64(4)\n",
            "memory usage: 691.3 KB\n",
            "None\n",
            "Index(['temperature_2_m_above_gnd', 'relative_humidity_2_m_above_gnd',\n",
            "       'mean_sea_level_pressure_MSL', 'total_precipitation_sfc',\n",
            "       'snowfall_amount_sfc', 'total_cloud_cover_sfc',\n",
            "       'high_cloud_cover_high_cld_lay', 'medium_cloud_cover_mid_cld_lay',\n",
            "       'low_cloud_cover_low_cld_lay', 'shortwave_radiation_backwards_sfc',\n",
            "       'wind_speed_10_m_above_gnd', 'wind_direction_10_m_above_gnd',\n",
            "       'wind_speed_80_m_above_gnd', 'wind_direction_80_m_above_gnd',\n",
            "       'wind_speed_900_mb', 'wind_direction_900_mb',\n",
            "       'wind_gust_10_m_above_gnd', 'angle_of_incidence', 'zenith', 'azimuth',\n",
            "       'generated_power_kw'],\n",
            "      dtype='object')\n"
          ]
        }
      ],
      "source": [
        "import pandas as pd\n",
        "import numpy as np\n",
        "import matplotlib.pyplot as plt\n",
        "import seaborn as sns\n",
        "\n",
        "df=pd.read_csv (r\"/content/spg.csv\")\n",
        "print(df)\n",
        "print(df.info())\n",
        "print(df.columns)"
      ]
    },
    {
      "cell_type": "code",
      "source": [
        "corr=df.corr()\n",
        "sns.heatmap(corr)\n",
        "plt.show()"
      ],
      "metadata": {
        "colab": {
          "base_uri": "https://localhost:8080/",
          "height": 439
        },
        "id": "fgF9wT_KOQYX",
        "outputId": "041e6fdb-0cae-4e4c-8d13-70118f8f3492"
      },
      "execution_count": 2,
      "outputs": [
        {
          "output_type": "display_data",
          "data": {
            "text/plain": [
              "<Figure size 432x288 with 2 Axes>"
            ],
            "image/png": "[encoded data removed]"
          },
          "metadata": {
            "needs_background": "light"
          }
        }
      ]
    },
    {
      "cell_type": "code",
      "source": [
        "X=df.iloc[:,:21]\n",
        "y=df.iloc[:,-1]\n",
        "print(X.shape)\n",
        "print(y.shape)"
      ],
      "metadata": {
        "colab": {
          "base_uri": "https://localhost:8080/"
        },
        "id": "-SEGkrtpOU7J",
        "outputId": "7f292e08-541d-40b1-8152-ab303b84f8e4"
      },
      "execution_count": 3,
      "outputs": [
        {
          "output_type": "stream",
          "name": "stdout",
          "text": [
            "(4213, 21)\n",
            "(4213,)\n"
          ]
        }
      ]
    },
    {
      "cell_type": "code",
      "source": [
        "from sklearn.model_selection import train_test_split\n",
        "X_train,X_test,y_train,y_test=train_test_split(X,y,train_size=0.8)\n",
        "print(X_train.shape)\n",
        "print(X_test.shape)\n",
        "print(y_train.shape)\n",
        "print(y_test.shape)"
      ],
      "metadata": {
        "colab": {
          "base_uri": "https://localhost:8080/"
        },
        "id": "5zZAog1mOaVl",
        "outputId": "5ccf1d85-64b4-4a3d-9477-6baf9ff8941f"
      },
      "execution_count": 4,
      "outputs": [
        {
          "output_type": "stream",
          "name": "stdout",
          "text": [
            "(3370, 21)\n",
            "(843, 21)\n",
            "(3370,)\n",
            "(843,)\n"
          ]
        }
      ]
    },
    {
      "cell_type": "code",
      "source": [
        "y_test=pd.DataFrame(y_test)\n",
        "y_test.reset_index(inplace=True)\n",
        "y_test.drop(\"index\",inplace= True,axis=1)\n",
        "print(y_test)"
      ],
      "metadata": {
        "colab": {
          "base_uri": "https://localhost:8080/"
        },
        "id": "q-y2yCGmOeNB",
        "outputId": "b7a2291a-b7d3-4527-dee7-90bffc6ec569"
      },
      "execution_count": 5,
      "outputs": [
        {
          "output_type": "stream",
          "name": "stdout",
          "text": [
            "     generated_power_kw\n",
            "0            742.304610\n",
            "1             24.005640\n",
            "2           1883.061400\n",
            "3           1785.292400\n",
            "4             16.687533\n",
            "..                  ...\n",
            "838         2224.327700\n",
            "839         2594.873900\n",
            "840         2469.055800\n",
            "841          557.363060\n",
            "842          479.020230\n",
            "\n",
            "[843 rows x 1 columns]\n"
          ]
        }
      ]
    },
    {
      "cell_type": "code",
      "source": [
        "from sklearn.linear_model import LinearRegression\n",
        "from sklearn.ensemble import BaggingRegressor, GradientBoostingRegressor, AdaBoostRegressor\n",
        "lin=LinearRegression()\n",
        "lin.fit(X_train,y_train)\n",
        "\n",
        "lin_pred=lin.predict(X_test)\n",
        "lin_pred=pd.DataFrame(lin_pred )\n",
        "lin_pred.columns=[\"lin_pred\"]"
      ],
      "metadata": {
        "id": "Sn2tpeylOn8-"
      },
      "execution_count": 6,
      "outputs": []
    },
    {
      "cell_type": "code",
      "source": [
        "bag=BaggingRegressor()\n",
        "boost=AdaBoostRegressor()\n",
        "Xboost=GradientBoostingRegressor()\n",
        "\n",
        "bag.fit(X_train ,y_train)\n",
        "bag_pred=bag.predict(X_test)\n",
        "bag_pred=pd.DataFrame (bag_pred )\n",
        "bag_pred.columns=[\"bag_pred\"]\n",
        "\n",
        "boost.fit(X_train ,y_train )\n",
        "boost_pred=boost.predict(X_test)\n",
        "boost_pred=pd.DataFrame(boost_pred)\n",
        "boost_pred.columns=[\"boost_pred\"]\n",
        "\n",
        "Xboost.fit(X_train ,y_train )\n",
        "Xboost_pred=Xboost .predict(X_test)\n",
        "Xboost_pred=pd.DataFrame (Xboost_pred )\n",
        "Xboost_pred.columns=[\"Xboost_pred\"]\n",
        "\n",
        "y_result=pd.concat([y_test,lin_pred,bag_pred,boost_pred,Xboost_pred],axis=1)\n",
        "print(y_result)"
      ],
      "metadata": {
        "colab": {
          "base_uri": "https://localhost:8080/"
        },
        "id": "kbKthr2uOqWa",
        "outputId": "3acef427-e81b-4681-f75b-920a4424dad6"
      },
      "execution_count": 7,
      "outputs": [
        {
          "output_type": "stream",
          "name": "stdout",
          "text": [
            "     generated_power_kw     lin_pred     bag_pred   boost_pred  Xboost_pred\n",
            "0            742.304610   742.304610   744.104894   777.582434   752.381128\n",
            "1             24.005640    24.005640    24.117140    84.689661    24.577435\n",
            "2           1883.061400  1883.061400  1882.020200  1893.226474  1881.230279\n",
            "3           1785.292400  1785.292400  1785.134600  1828.033846  1775.378033\n",
            "4             16.687533    16.687533    16.420159    84.689661    17.814599\n",
            "..                  ...          ...          ...          ...          ...\n",
            "838         2224.327700  2224.327700  2225.389120  2272.113998  2231.148539\n",
            "839         2594.873900  2594.873900  2595.777430  2633.314392  2593.938110\n",
            "840         2469.055800  2469.055800  2469.783610  2483.640007  2470.555999\n",
            "841          557.363060   557.363060   556.460712   498.812918   551.451443\n",
            "842          479.020230   479.020230   481.042279   428.118574   478.632078\n",
            "\n",
            "[843 rows x 5 columns]\n"
          ]
        }
      ]
    },
    {
      "cell_type": "code",
      "source": [
        "from sklearn.model_selection import cross_val_score\n",
        "from sklearn.metrics import r2_score\n",
        "\n",
        "rmse=cross_val_score(bag,X,y,scoring=\"neg_root_mean_squared_error\")\n",
        "print(rmse)\n",
        "\n",
        "r2_lin=r2_score(y_test,lin_pred )\n",
        "print(r2_lin )\n",
        "\n",
        "r2_bag=r2_score(y_test,bag_pred )\n",
        "print(r2_bag )\n",
        "\n",
        "r2_boost=r2_score(y_test,boost_pred )\n",
        "print(r2_boost)\n",
        "\n",
        "r2_Xboost=r2_score(y_test,Xboost_pred)\n",
        "print(r2_Xboost )"
      ],
      "metadata": {
        "colab": {
          "base_uri": "https://localhost:8080/"
        },
        "id": "38gE35fcOx_3",
        "outputId": "0a263f48-b98b-45b5-eb9d-83b6ca992bcf"
      },
      "execution_count": 8,
      "outputs": [
        {
          "output_type": "stream",
          "name": "stdout",
          "text": [
            "[-7.95716835 -2.28132637 -1.43220844 -1.30095669 -1.41327308]\n",
            "1.0\n",
            "0.9999974751245888\n",
            "0.9956844122142906\n",
            "0.9999634355097423\n"
          ]
        }
      ]
    }
  ]
}